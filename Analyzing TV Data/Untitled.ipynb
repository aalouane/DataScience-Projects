{
 "cells": [
  {
   "cell_type": "markdown",
   "id": "277161a5",
   "metadata": {},
   "source": [
    "## 1. TV, halftime shows, and the Big Game"
   ]
  },
  {
   "cell_type": "markdown",
   "id": "aa28b94d",
   "metadata": {},
   "source": [
    "Whether or not you like football, the Super Bowl is a spectacle. There's a little something for everyone at your Super Bowl party. Drama in the form of blowouts, comebacks, and controversy for the sports fan. There are the ridiculously expensive ads, some hilarious, others gut-wrenching, thought-provoking, and weird. The half-time shows with the biggest musicians in the world, sometimes riding giant mechanical tigers or leaping from the roof of the stadium. It's a show, baby. And in this notebook, we're going to find out how some of the elements of this show interact with each other. After exploring and cleaning our data a little, we're going to answer questions like:\n",
    "\n",
    "    What are the most extreme game outcomes?\n",
    "    How does the game affect television viewership?\n",
    "    How have viewership, TV ratings, and ad cost evolved over time?\n",
    "    Who are the most prolific musicians in terms of halftime show performances?"
   ]
  },
  {
   "cell_type": "code",
   "execution_count": 1,
   "id": "083ceabb",
   "metadata": {},
   "outputs": [],
   "source": [
    "import pandas as pd\n",
    "\n",
    "# Load the CSV data into DataFrames\n",
    "super_bowls = pd.read_csv('super_bowls.csv')\n",
    "tv = pd.read_csv('tv.csv')\n",
    "halftime_musicians = pd.read_csv('halftime_musicians.csv')\n",
    "\n",
    "#"
   ]
  },
  {
   "cell_type": "code",
   "execution_count": null,
   "id": "e6546cbd",
   "metadata": {},
   "outputs": [],
   "source": []
  }
 ],
 "metadata": {
  "kernelspec": {
   "display_name": "Python 3 (ipykernel)",
   "language": "python",
   "name": "python3"
  },
  "language_info": {
   "codemirror_mode": {
    "name": "ipython",
    "version": 3
   },
   "file_extension": ".py",
   "mimetype": "text/x-python",
   "name": "python",
   "nbconvert_exporter": "python",
   "pygments_lexer": "ipython3",
   "version": "3.9.12"
  }
 },
 "nbformat": 4,
 "nbformat_minor": 5
}
