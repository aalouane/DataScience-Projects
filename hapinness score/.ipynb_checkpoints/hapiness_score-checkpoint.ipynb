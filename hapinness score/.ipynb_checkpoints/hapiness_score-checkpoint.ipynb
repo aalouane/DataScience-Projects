{
 "cells": [
  {
   "cell_type": "code",
   "execution_count": 67,
   "id": "5166945d",
   "metadata": {},
   "outputs": [],
   "source": [
    "import numpy as np\n",
    "import pandas as pd\n",
    "import seaborn as sns\n",
    "import matplotlib.pyplot as plt\n",
    "import plotly.graph_objs as go\n",
    "from plotly.offline import download_plotlyjs, plot, iplot\n",
    "\n",
    "\n",
    "sns.set()"
   ]
  },
  {
   "cell_type": "code",
   "execution_count": 4,
   "id": "60722675",
   "metadata": {},
   "outputs": [],
   "source": [
    "happiness_2015 = pd.read_csv(\"2015.csv\")\n",
    "happiness_2016 = pd.read_csv(\"2016.csv\")\n",
    "happiness_2017 = pd.read_csv(\"2017.csv\")"
   ]
  },
  {
   "cell_type": "code",
   "execution_count": 8,
   "id": "94b2ae4b",
   "metadata": {},
   "outputs": [
    {
     "name": "stdout",
     "output_type": "stream",
     "text": [
      "(158, 12)\n",
      "(157, 13)\n",
      "(155, 12)\n"
     ]
    }
   ],
   "source": [
    "print(happiness_2015.shape)\n",
    "print(happiness_2016.shape)\n",
    "print(happiness_2017.shape)"
   ]
  },
  {
   "cell_type": "code",
   "execution_count": 9,
   "id": "3e101eb7",
   "metadata": {},
   "outputs": [
    {
     "name": "stdout",
     "output_type": "stream",
     "text": [
      "<class 'pandas.core.frame.DataFrame'>\n",
      "RangeIndex: 158 entries, 0 to 157\n",
      "Data columns (total 12 columns):\n",
      " #   Column                         Non-Null Count  Dtype  \n",
      "---  ------                         --------------  -----  \n",
      " 0   Country                        158 non-null    object \n",
      " 1   Region                         158 non-null    object \n",
      " 2   Happiness Rank                 158 non-null    int64  \n",
      " 3   Happiness Score                158 non-null    float64\n",
      " 4   Standard Error                 158 non-null    float64\n",
      " 5   Economy (GDP per Capita)       158 non-null    float64\n",
      " 6   Family                         158 non-null    float64\n",
      " 7   Health (Life Expectancy)       158 non-null    float64\n",
      " 8   Freedom                        158 non-null    float64\n",
      " 9   Trust (Government Corruption)  158 non-null    float64\n",
      " 10  Generosity                     158 non-null    float64\n",
      " 11  Dystopia Residual              158 non-null    float64\n",
      "dtypes: float64(9), int64(1), object(2)\n",
      "memory usage: 14.9+ KB\n"
     ]
    }
   ],
   "source": [
    "happiness_2015.info()"
   ]
  },
  {
   "cell_type": "code",
   "execution_count": 10,
   "id": "5eae0186",
   "metadata": {},
   "outputs": [
    {
     "name": "stdout",
     "output_type": "stream",
     "text": [
      "<class 'pandas.core.frame.DataFrame'>\n",
      "RangeIndex: 157 entries, 0 to 156\n",
      "Data columns (total 13 columns):\n",
      " #   Column                         Non-Null Count  Dtype  \n",
      "---  ------                         --------------  -----  \n",
      " 0   Country                        157 non-null    object \n",
      " 1   Region                         157 non-null    object \n",
      " 2   Happiness Rank                 157 non-null    int64  \n",
      " 3   Happiness Score                157 non-null    float64\n",
      " 4   Lower Confidence Interval      157 non-null    float64\n",
      " 5   Upper Confidence Interval      157 non-null    float64\n",
      " 6   Economy (GDP per Capita)       157 non-null    float64\n",
      " 7   Family                         157 non-null    float64\n",
      " 8   Health (Life Expectancy)       157 non-null    float64\n",
      " 9   Freedom                        157 non-null    float64\n",
      " 10  Trust (Government Corruption)  157 non-null    float64\n",
      " 11  Generosity                     157 non-null    float64\n",
      " 12  Dystopia Residual              157 non-null    float64\n",
      "dtypes: float64(10), int64(1), object(2)\n",
      "memory usage: 16.1+ KB\n"
     ]
    }
   ],
   "source": [
    "happiness_2016.info()"
   ]
  },
  {
   "cell_type": "code",
   "execution_count": 11,
   "id": "da64b2b5",
   "metadata": {},
   "outputs": [
    {
     "name": "stdout",
     "output_type": "stream",
     "text": [
      "<class 'pandas.core.frame.DataFrame'>\n",
      "RangeIndex: 155 entries, 0 to 154\n",
      "Data columns (total 12 columns):\n",
      " #   Column                         Non-Null Count  Dtype  \n",
      "---  ------                         --------------  -----  \n",
      " 0   Country                        155 non-null    object \n",
      " 1   Happiness.Rank                 155 non-null    int64  \n",
      " 2   Happiness.Score                155 non-null    float64\n",
      " 3   Whisker.high                   155 non-null    float64\n",
      " 4   Whisker.low                    155 non-null    float64\n",
      " 5   Economy..GDP.per.Capita.       155 non-null    float64\n",
      " 6   Family                         155 non-null    float64\n",
      " 7   Health..Life.Expectancy.       155 non-null    float64\n",
      " 8   Freedom                        155 non-null    float64\n",
      " 9   Generosity                     155 non-null    float64\n",
      " 10  Trust..Government.Corruption.  155 non-null    float64\n",
      " 11  Dystopia.Residual              155 non-null    float64\n",
      "dtypes: float64(10), int64(1), object(1)\n",
      "memory usage: 14.7+ KB\n"
     ]
    }
   ],
   "source": [
    "happiness_2017.info()"
   ]
  },
  {
   "cell_type": "code",
   "execution_count": 12,
   "id": "4c60c6db",
   "metadata": {},
   "outputs": [
    {
     "data": {
      "text/html": [
       "<div>\n",
       "<style scoped>\n",
       "    .dataframe tbody tr th:only-of-type {\n",
       "        vertical-align: middle;\n",
       "    }\n",
       "\n",
       "    .dataframe tbody tr th {\n",
       "        vertical-align: top;\n",
       "    }\n",
       "\n",
       "    .dataframe thead th {\n",
       "        text-align: right;\n",
       "    }\n",
       "</style>\n",
       "<table border=\"1\" class=\"dataframe\">\n",
       "  <thead>\n",
       "    <tr style=\"text-align: right;\">\n",
       "      <th></th>\n",
       "      <th>Country</th>\n",
       "      <th>Region</th>\n",
       "      <th>Happiness Rank</th>\n",
       "      <th>Happiness Score</th>\n",
       "      <th>Standard Error</th>\n",
       "      <th>Economy (GDP per Capita)</th>\n",
       "      <th>Family</th>\n",
       "      <th>Health (Life Expectancy)</th>\n",
       "      <th>Freedom</th>\n",
       "      <th>Trust (Government Corruption)</th>\n",
       "      <th>Generosity</th>\n",
       "      <th>Dystopia Residual</th>\n",
       "    </tr>\n",
       "  </thead>\n",
       "  <tbody>\n",
       "    <tr>\n",
       "      <th>0</th>\n",
       "      <td>Switzerland</td>\n",
       "      <td>Western Europe</td>\n",
       "      <td>1</td>\n",
       "      <td>7.587</td>\n",
       "      <td>0.03411</td>\n",
       "      <td>1.39651</td>\n",
       "      <td>1.34951</td>\n",
       "      <td>0.94143</td>\n",
       "      <td>0.66557</td>\n",
       "      <td>0.41978</td>\n",
       "      <td>0.29678</td>\n",
       "      <td>2.51738</td>\n",
       "    </tr>\n",
       "    <tr>\n",
       "      <th>1</th>\n",
       "      <td>Iceland</td>\n",
       "      <td>Western Europe</td>\n",
       "      <td>2</td>\n",
       "      <td>7.561</td>\n",
       "      <td>0.04884</td>\n",
       "      <td>1.30232</td>\n",
       "      <td>1.40223</td>\n",
       "      <td>0.94784</td>\n",
       "      <td>0.62877</td>\n",
       "      <td>0.14145</td>\n",
       "      <td>0.43630</td>\n",
       "      <td>2.70201</td>\n",
       "    </tr>\n",
       "    <tr>\n",
       "      <th>2</th>\n",
       "      <td>Denmark</td>\n",
       "      <td>Western Europe</td>\n",
       "      <td>3</td>\n",
       "      <td>7.527</td>\n",
       "      <td>0.03328</td>\n",
       "      <td>1.32548</td>\n",
       "      <td>1.36058</td>\n",
       "      <td>0.87464</td>\n",
       "      <td>0.64938</td>\n",
       "      <td>0.48357</td>\n",
       "      <td>0.34139</td>\n",
       "      <td>2.49204</td>\n",
       "    </tr>\n",
       "    <tr>\n",
       "      <th>3</th>\n",
       "      <td>Norway</td>\n",
       "      <td>Western Europe</td>\n",
       "      <td>4</td>\n",
       "      <td>7.522</td>\n",
       "      <td>0.03880</td>\n",
       "      <td>1.45900</td>\n",
       "      <td>1.33095</td>\n",
       "      <td>0.88521</td>\n",
       "      <td>0.66973</td>\n",
       "      <td>0.36503</td>\n",
       "      <td>0.34699</td>\n",
       "      <td>2.46531</td>\n",
       "    </tr>\n",
       "    <tr>\n",
       "      <th>4</th>\n",
       "      <td>Canada</td>\n",
       "      <td>North America</td>\n",
       "      <td>5</td>\n",
       "      <td>7.427</td>\n",
       "      <td>0.03553</td>\n",
       "      <td>1.32629</td>\n",
       "      <td>1.32261</td>\n",
       "      <td>0.90563</td>\n",
       "      <td>0.63297</td>\n",
       "      <td>0.32957</td>\n",
       "      <td>0.45811</td>\n",
       "      <td>2.45176</td>\n",
       "    </tr>\n",
       "  </tbody>\n",
       "</table>\n",
       "</div>"
      ],
      "text/plain": [
       "       Country          Region  Happiness Rank  Happiness Score  \\\n",
       "0  Switzerland  Western Europe               1            7.587   \n",
       "1      Iceland  Western Europe               2            7.561   \n",
       "2      Denmark  Western Europe               3            7.527   \n",
       "3       Norway  Western Europe               4            7.522   \n",
       "4       Canada   North America               5            7.427   \n",
       "\n",
       "   Standard Error  Economy (GDP per Capita)   Family  \\\n",
       "0         0.03411                   1.39651  1.34951   \n",
       "1         0.04884                   1.30232  1.40223   \n",
       "2         0.03328                   1.32548  1.36058   \n",
       "3         0.03880                   1.45900  1.33095   \n",
       "4         0.03553                   1.32629  1.32261   \n",
       "\n",
       "   Health (Life Expectancy)  Freedom  Trust (Government Corruption)  \\\n",
       "0                   0.94143  0.66557                        0.41978   \n",
       "1                   0.94784  0.62877                        0.14145   \n",
       "2                   0.87464  0.64938                        0.48357   \n",
       "3                   0.88521  0.66973                        0.36503   \n",
       "4                   0.90563  0.63297                        0.32957   \n",
       "\n",
       "   Generosity  Dystopia Residual  \n",
       "0     0.29678            2.51738  \n",
       "1     0.43630            2.70201  \n",
       "2     0.34139            2.49204  \n",
       "3     0.34699            2.46531  \n",
       "4     0.45811            2.45176  "
      ]
     },
     "execution_count": 12,
     "metadata": {},
     "output_type": "execute_result"
    }
   ],
   "source": [
    "happiness_2015.head()"
   ]
  },
  {
   "cell_type": "code",
   "execution_count": 13,
   "id": "cbb7f393",
   "metadata": {},
   "outputs": [
    {
     "data": {
      "text/html": [
       "<div>\n",
       "<style scoped>\n",
       "    .dataframe tbody tr th:only-of-type {\n",
       "        vertical-align: middle;\n",
       "    }\n",
       "\n",
       "    .dataframe tbody tr th {\n",
       "        vertical-align: top;\n",
       "    }\n",
       "\n",
       "    .dataframe thead th {\n",
       "        text-align: right;\n",
       "    }\n",
       "</style>\n",
       "<table border=\"1\" class=\"dataframe\">\n",
       "  <thead>\n",
       "    <tr style=\"text-align: right;\">\n",
       "      <th></th>\n",
       "      <th>Country</th>\n",
       "      <th>Region</th>\n",
       "      <th>Happiness Rank</th>\n",
       "      <th>Happiness Score</th>\n",
       "      <th>Lower Confidence Interval</th>\n",
       "      <th>Upper Confidence Interval</th>\n",
       "      <th>Economy (GDP per Capita)</th>\n",
       "      <th>Family</th>\n",
       "      <th>Health (Life Expectancy)</th>\n",
       "      <th>Freedom</th>\n",
       "      <th>Trust (Government Corruption)</th>\n",
       "      <th>Generosity</th>\n",
       "      <th>Dystopia Residual</th>\n",
       "    </tr>\n",
       "  </thead>\n",
       "  <tbody>\n",
       "    <tr>\n",
       "      <th>0</th>\n",
       "      <td>Denmark</td>\n",
       "      <td>Western Europe</td>\n",
       "      <td>1</td>\n",
       "      <td>7.526</td>\n",
       "      <td>7.460</td>\n",
       "      <td>7.592</td>\n",
       "      <td>1.44178</td>\n",
       "      <td>1.16374</td>\n",
       "      <td>0.79504</td>\n",
       "      <td>0.57941</td>\n",
       "      <td>0.44453</td>\n",
       "      <td>0.36171</td>\n",
       "      <td>2.73939</td>\n",
       "    </tr>\n",
       "    <tr>\n",
       "      <th>1</th>\n",
       "      <td>Switzerland</td>\n",
       "      <td>Western Europe</td>\n",
       "      <td>2</td>\n",
       "      <td>7.509</td>\n",
       "      <td>7.428</td>\n",
       "      <td>7.590</td>\n",
       "      <td>1.52733</td>\n",
       "      <td>1.14524</td>\n",
       "      <td>0.86303</td>\n",
       "      <td>0.58557</td>\n",
       "      <td>0.41203</td>\n",
       "      <td>0.28083</td>\n",
       "      <td>2.69463</td>\n",
       "    </tr>\n",
       "    <tr>\n",
       "      <th>2</th>\n",
       "      <td>Iceland</td>\n",
       "      <td>Western Europe</td>\n",
       "      <td>3</td>\n",
       "      <td>7.501</td>\n",
       "      <td>7.333</td>\n",
       "      <td>7.669</td>\n",
       "      <td>1.42666</td>\n",
       "      <td>1.18326</td>\n",
       "      <td>0.86733</td>\n",
       "      <td>0.56624</td>\n",
       "      <td>0.14975</td>\n",
       "      <td>0.47678</td>\n",
       "      <td>2.83137</td>\n",
       "    </tr>\n",
       "    <tr>\n",
       "      <th>3</th>\n",
       "      <td>Norway</td>\n",
       "      <td>Western Europe</td>\n",
       "      <td>4</td>\n",
       "      <td>7.498</td>\n",
       "      <td>7.421</td>\n",
       "      <td>7.575</td>\n",
       "      <td>1.57744</td>\n",
       "      <td>1.12690</td>\n",
       "      <td>0.79579</td>\n",
       "      <td>0.59609</td>\n",
       "      <td>0.35776</td>\n",
       "      <td>0.37895</td>\n",
       "      <td>2.66465</td>\n",
       "    </tr>\n",
       "    <tr>\n",
       "      <th>4</th>\n",
       "      <td>Finland</td>\n",
       "      <td>Western Europe</td>\n",
       "      <td>5</td>\n",
       "      <td>7.413</td>\n",
       "      <td>7.351</td>\n",
       "      <td>7.475</td>\n",
       "      <td>1.40598</td>\n",
       "      <td>1.13464</td>\n",
       "      <td>0.81091</td>\n",
       "      <td>0.57104</td>\n",
       "      <td>0.41004</td>\n",
       "      <td>0.25492</td>\n",
       "      <td>2.82596</td>\n",
       "    </tr>\n",
       "  </tbody>\n",
       "</table>\n",
       "</div>"
      ],
      "text/plain": [
       "       Country          Region  Happiness Rank  Happiness Score  \\\n",
       "0      Denmark  Western Europe               1            7.526   \n",
       "1  Switzerland  Western Europe               2            7.509   \n",
       "2      Iceland  Western Europe               3            7.501   \n",
       "3       Norway  Western Europe               4            7.498   \n",
       "4      Finland  Western Europe               5            7.413   \n",
       "\n",
       "   Lower Confidence Interval  Upper Confidence Interval  \\\n",
       "0                      7.460                      7.592   \n",
       "1                      7.428                      7.590   \n",
       "2                      7.333                      7.669   \n",
       "3                      7.421                      7.575   \n",
       "4                      7.351                      7.475   \n",
       "\n",
       "   Economy (GDP per Capita)   Family  Health (Life Expectancy)  Freedom  \\\n",
       "0                   1.44178  1.16374                   0.79504  0.57941   \n",
       "1                   1.52733  1.14524                   0.86303  0.58557   \n",
       "2                   1.42666  1.18326                   0.86733  0.56624   \n",
       "3                   1.57744  1.12690                   0.79579  0.59609   \n",
       "4                   1.40598  1.13464                   0.81091  0.57104   \n",
       "\n",
       "   Trust (Government Corruption)  Generosity  Dystopia Residual  \n",
       "0                        0.44453     0.36171            2.73939  \n",
       "1                        0.41203     0.28083            2.69463  \n",
       "2                        0.14975     0.47678            2.83137  \n",
       "3                        0.35776     0.37895            2.66465  \n",
       "4                        0.41004     0.25492            2.82596  "
      ]
     },
     "execution_count": 13,
     "metadata": {},
     "output_type": "execute_result"
    }
   ],
   "source": [
    "happiness_2016.head()"
   ]
  },
  {
   "cell_type": "code",
   "execution_count": 14,
   "id": "6e4482b5",
   "metadata": {},
   "outputs": [
    {
     "data": {
      "text/html": [
       "<div>\n",
       "<style scoped>\n",
       "    .dataframe tbody tr th:only-of-type {\n",
       "        vertical-align: middle;\n",
       "    }\n",
       "\n",
       "    .dataframe tbody tr th {\n",
       "        vertical-align: top;\n",
       "    }\n",
       "\n",
       "    .dataframe thead th {\n",
       "        text-align: right;\n",
       "    }\n",
       "</style>\n",
       "<table border=\"1\" class=\"dataframe\">\n",
       "  <thead>\n",
       "    <tr style=\"text-align: right;\">\n",
       "      <th></th>\n",
       "      <th>Country</th>\n",
       "      <th>Happiness.Rank</th>\n",
       "      <th>Happiness.Score</th>\n",
       "      <th>Whisker.high</th>\n",
       "      <th>Whisker.low</th>\n",
       "      <th>Economy..GDP.per.Capita.</th>\n",
       "      <th>Family</th>\n",
       "      <th>Health..Life.Expectancy.</th>\n",
       "      <th>Freedom</th>\n",
       "      <th>Generosity</th>\n",
       "      <th>Trust..Government.Corruption.</th>\n",
       "      <th>Dystopia.Residual</th>\n",
       "    </tr>\n",
       "  </thead>\n",
       "  <tbody>\n",
       "    <tr>\n",
       "      <th>0</th>\n",
       "      <td>Norway</td>\n",
       "      <td>1</td>\n",
       "      <td>7.537</td>\n",
       "      <td>7.594445</td>\n",
       "      <td>7.479556</td>\n",
       "      <td>1.616463</td>\n",
       "      <td>1.533524</td>\n",
       "      <td>0.796667</td>\n",
       "      <td>0.635423</td>\n",
       "      <td>0.362012</td>\n",
       "      <td>0.315964</td>\n",
       "      <td>2.277027</td>\n",
       "    </tr>\n",
       "    <tr>\n",
       "      <th>1</th>\n",
       "      <td>Denmark</td>\n",
       "      <td>2</td>\n",
       "      <td>7.522</td>\n",
       "      <td>7.581728</td>\n",
       "      <td>7.462272</td>\n",
       "      <td>1.482383</td>\n",
       "      <td>1.551122</td>\n",
       "      <td>0.792566</td>\n",
       "      <td>0.626007</td>\n",
       "      <td>0.355280</td>\n",
       "      <td>0.400770</td>\n",
       "      <td>2.313707</td>\n",
       "    </tr>\n",
       "    <tr>\n",
       "      <th>2</th>\n",
       "      <td>Iceland</td>\n",
       "      <td>3</td>\n",
       "      <td>7.504</td>\n",
       "      <td>7.622030</td>\n",
       "      <td>7.385970</td>\n",
       "      <td>1.480633</td>\n",
       "      <td>1.610574</td>\n",
       "      <td>0.833552</td>\n",
       "      <td>0.627163</td>\n",
       "      <td>0.475540</td>\n",
       "      <td>0.153527</td>\n",
       "      <td>2.322715</td>\n",
       "    </tr>\n",
       "    <tr>\n",
       "      <th>3</th>\n",
       "      <td>Switzerland</td>\n",
       "      <td>4</td>\n",
       "      <td>7.494</td>\n",
       "      <td>7.561772</td>\n",
       "      <td>7.426227</td>\n",
       "      <td>1.564980</td>\n",
       "      <td>1.516912</td>\n",
       "      <td>0.858131</td>\n",
       "      <td>0.620071</td>\n",
       "      <td>0.290549</td>\n",
       "      <td>0.367007</td>\n",
       "      <td>2.276716</td>\n",
       "    </tr>\n",
       "    <tr>\n",
       "      <th>4</th>\n",
       "      <td>Finland</td>\n",
       "      <td>5</td>\n",
       "      <td>7.469</td>\n",
       "      <td>7.527542</td>\n",
       "      <td>7.410458</td>\n",
       "      <td>1.443572</td>\n",
       "      <td>1.540247</td>\n",
       "      <td>0.809158</td>\n",
       "      <td>0.617951</td>\n",
       "      <td>0.245483</td>\n",
       "      <td>0.382612</td>\n",
       "      <td>2.430182</td>\n",
       "    </tr>\n",
       "  </tbody>\n",
       "</table>\n",
       "</div>"
      ],
      "text/plain": [
       "       Country  Happiness.Rank  Happiness.Score  Whisker.high  Whisker.low  \\\n",
       "0       Norway               1            7.537      7.594445     7.479556   \n",
       "1      Denmark               2            7.522      7.581728     7.462272   \n",
       "2      Iceland               3            7.504      7.622030     7.385970   \n",
       "3  Switzerland               4            7.494      7.561772     7.426227   \n",
       "4      Finland               5            7.469      7.527542     7.410458   \n",
       "\n",
       "   Economy..GDP.per.Capita.    Family  Health..Life.Expectancy.   Freedom  \\\n",
       "0                  1.616463  1.533524                  0.796667  0.635423   \n",
       "1                  1.482383  1.551122                  0.792566  0.626007   \n",
       "2                  1.480633  1.610574                  0.833552  0.627163   \n",
       "3                  1.564980  1.516912                  0.858131  0.620071   \n",
       "4                  1.443572  1.540247                  0.809158  0.617951   \n",
       "\n",
       "   Generosity  Trust..Government.Corruption.  Dystopia.Residual  \n",
       "0    0.362012                       0.315964           2.277027  \n",
       "1    0.355280                       0.400770           2.313707  \n",
       "2    0.475540                       0.153527           2.322715  \n",
       "3    0.290549                       0.367007           2.276716  \n",
       "4    0.245483                       0.382612           2.430182  "
      ]
     },
     "execution_count": 14,
     "metadata": {},
     "output_type": "execute_result"
    }
   ],
   "source": [
    "happiness_2017.head()"
   ]
  },
  {
   "cell_type": "markdown",
   "id": "9e3a4001",
   "metadata": {},
   "source": [
    "### Rename and delete columns to be the same of the happiness_2015"
   ]
  },
  {
   "cell_type": "code",
   "execution_count": 57,
   "id": "f3941e82",
   "metadata": {},
   "outputs": [
    {
     "data": {
      "text/html": [
       "<div>\n",
       "<style scoped>\n",
       "    .dataframe tbody tr th:only-of-type {\n",
       "        vertical-align: middle;\n",
       "    }\n",
       "\n",
       "    .dataframe tbody tr th {\n",
       "        vertical-align: top;\n",
       "    }\n",
       "\n",
       "    .dataframe thead th {\n",
       "        text-align: right;\n",
       "    }\n",
       "</style>\n",
       "<table border=\"1\" class=\"dataframe\">\n",
       "  <thead>\n",
       "    <tr style=\"text-align: right;\">\n",
       "      <th></th>\n",
       "      <th>Country</th>\n",
       "      <th>Region</th>\n",
       "      <th>Happiness_Rank</th>\n",
       "      <th>Happiness_Score</th>\n",
       "      <th>Standard Error</th>\n",
       "      <th>Economy</th>\n",
       "      <th>Family</th>\n",
       "      <th>Health</th>\n",
       "      <th>Freedom</th>\n",
       "      <th>Trust</th>\n",
       "      <th>Generosity</th>\n",
       "      <th>Dystopia_Residual</th>\n",
       "    </tr>\n",
       "  </thead>\n",
       "  <tbody>\n",
       "    <tr>\n",
       "      <th>0</th>\n",
       "      <td>Switzerland</td>\n",
       "      <td>Western Europe</td>\n",
       "      <td>1</td>\n",
       "      <td>7.587</td>\n",
       "      <td>0.03411</td>\n",
       "      <td>1.39651</td>\n",
       "      <td>1.34951</td>\n",
       "      <td>0.94143</td>\n",
       "      <td>0.66557</td>\n",
       "      <td>0.41978</td>\n",
       "      <td>0.29678</td>\n",
       "      <td>2.51738</td>\n",
       "    </tr>\n",
       "    <tr>\n",
       "      <th>1</th>\n",
       "      <td>Iceland</td>\n",
       "      <td>Western Europe</td>\n",
       "      <td>2</td>\n",
       "      <td>7.561</td>\n",
       "      <td>0.04884</td>\n",
       "      <td>1.30232</td>\n",
       "      <td>1.40223</td>\n",
       "      <td>0.94784</td>\n",
       "      <td>0.62877</td>\n",
       "      <td>0.14145</td>\n",
       "      <td>0.43630</td>\n",
       "      <td>2.70201</td>\n",
       "    </tr>\n",
       "    <tr>\n",
       "      <th>2</th>\n",
       "      <td>Denmark</td>\n",
       "      <td>Western Europe</td>\n",
       "      <td>3</td>\n",
       "      <td>7.527</td>\n",
       "      <td>0.03328</td>\n",
       "      <td>1.32548</td>\n",
       "      <td>1.36058</td>\n",
       "      <td>0.87464</td>\n",
       "      <td>0.64938</td>\n",
       "      <td>0.48357</td>\n",
       "      <td>0.34139</td>\n",
       "      <td>2.49204</td>\n",
       "    </tr>\n",
       "    <tr>\n",
       "      <th>3</th>\n",
       "      <td>Norway</td>\n",
       "      <td>Western Europe</td>\n",
       "      <td>4</td>\n",
       "      <td>7.522</td>\n",
       "      <td>0.03880</td>\n",
       "      <td>1.45900</td>\n",
       "      <td>1.33095</td>\n",
       "      <td>0.88521</td>\n",
       "      <td>0.66973</td>\n",
       "      <td>0.36503</td>\n",
       "      <td>0.34699</td>\n",
       "      <td>2.46531</td>\n",
       "    </tr>\n",
       "    <tr>\n",
       "      <th>4</th>\n",
       "      <td>Canada</td>\n",
       "      <td>North America</td>\n",
       "      <td>5</td>\n",
       "      <td>7.427</td>\n",
       "      <td>0.03553</td>\n",
       "      <td>1.32629</td>\n",
       "      <td>1.32261</td>\n",
       "      <td>0.90563</td>\n",
       "      <td>0.63297</td>\n",
       "      <td>0.32957</td>\n",
       "      <td>0.45811</td>\n",
       "      <td>2.45176</td>\n",
       "    </tr>\n",
       "  </tbody>\n",
       "</table>\n",
       "</div>"
      ],
      "text/plain": [
       "       Country          Region  Happiness_Rank  Happiness_Score  \\\n",
       "0  Switzerland  Western Europe               1            7.587   \n",
       "1      Iceland  Western Europe               2            7.561   \n",
       "2      Denmark  Western Europe               3            7.527   \n",
       "3       Norway  Western Europe               4            7.522   \n",
       "4       Canada   North America               5            7.427   \n",
       "\n",
       "   Standard Error  Economy   Family   Health  Freedom    Trust  Generosity  \\\n",
       "0         0.03411  1.39651  1.34951  0.94143  0.66557  0.41978     0.29678   \n",
       "1         0.04884  1.30232  1.40223  0.94784  0.62877  0.14145     0.43630   \n",
       "2         0.03328  1.32548  1.36058  0.87464  0.64938  0.48357     0.34139   \n",
       "3         0.03880  1.45900  1.33095  0.88521  0.66973  0.36503     0.34699   \n",
       "4         0.03553  1.32629  1.32261  0.90563  0.63297  0.32957     0.45811   \n",
       "\n",
       "   Dystopia_Residual  \n",
       "0            2.51738  \n",
       "1            2.70201  \n",
       "2            2.49204  \n",
       "3            2.46531  \n",
       "4            2.45176  "
      ]
     },
     "execution_count": 57,
     "metadata": {},
     "output_type": "execute_result"
    }
   ],
   "source": [
    "happiness_2015.columns = ['Country', 'Region', 'Happiness_Rank', 'Happiness_Score', 'Standard Error', 'Economy', 'Family', 'Health',\n",
    "                             'Freedom', 'Trust', 'Generosity', 'Dystopia_Residual']\n",
    "happiness_2015.head()"
   ]
  },
  {
   "cell_type": "code",
   "execution_count": 49,
   "id": "be734317",
   "metadata": {},
   "outputs": [
    {
     "data": {
      "text/html": [
       "<div>\n",
       "<style scoped>\n",
       "    .dataframe tbody tr th:only-of-type {\n",
       "        vertical-align: middle;\n",
       "    }\n",
       "\n",
       "    .dataframe tbody tr th {\n",
       "        vertical-align: top;\n",
       "    }\n",
       "\n",
       "    .dataframe thead th {\n",
       "        text-align: right;\n",
       "    }\n",
       "</style>\n",
       "<table border=\"1\" class=\"dataframe\">\n",
       "  <thead>\n",
       "    <tr style=\"text-align: right;\">\n",
       "      <th></th>\n",
       "      <th>Country</th>\n",
       "      <th>Happiness_Rank</th>\n",
       "      <th>Happiness_Score</th>\n",
       "      <th>Economy</th>\n",
       "      <th>Family</th>\n",
       "      <th>Health</th>\n",
       "      <th>Freedom</th>\n",
       "      <th>Trust</th>\n",
       "      <th>Generosity</th>\n",
       "      <th>Dystopia_Residual</th>\n",
       "    </tr>\n",
       "  </thead>\n",
       "  <tbody>\n",
       "    <tr>\n",
       "      <th>0</th>\n",
       "      <td>Denmark</td>\n",
       "      <td>1</td>\n",
       "      <td>7.526</td>\n",
       "      <td>1.44178</td>\n",
       "      <td>1.16374</td>\n",
       "      <td>0.79504</td>\n",
       "      <td>0.57941</td>\n",
       "      <td>0.44453</td>\n",
       "      <td>0.36171</td>\n",
       "      <td>2.73939</td>\n",
       "    </tr>\n",
       "    <tr>\n",
       "      <th>1</th>\n",
       "      <td>Switzerland</td>\n",
       "      <td>2</td>\n",
       "      <td>7.509</td>\n",
       "      <td>1.52733</td>\n",
       "      <td>1.14524</td>\n",
       "      <td>0.86303</td>\n",
       "      <td>0.58557</td>\n",
       "      <td>0.41203</td>\n",
       "      <td>0.28083</td>\n",
       "      <td>2.69463</td>\n",
       "    </tr>\n",
       "    <tr>\n",
       "      <th>2</th>\n",
       "      <td>Iceland</td>\n",
       "      <td>3</td>\n",
       "      <td>7.501</td>\n",
       "      <td>1.42666</td>\n",
       "      <td>1.18326</td>\n",
       "      <td>0.86733</td>\n",
       "      <td>0.56624</td>\n",
       "      <td>0.14975</td>\n",
       "      <td>0.47678</td>\n",
       "      <td>2.83137</td>\n",
       "    </tr>\n",
       "    <tr>\n",
       "      <th>3</th>\n",
       "      <td>Norway</td>\n",
       "      <td>4</td>\n",
       "      <td>7.498</td>\n",
       "      <td>1.57744</td>\n",
       "      <td>1.12690</td>\n",
       "      <td>0.79579</td>\n",
       "      <td>0.59609</td>\n",
       "      <td>0.35776</td>\n",
       "      <td>0.37895</td>\n",
       "      <td>2.66465</td>\n",
       "    </tr>\n",
       "    <tr>\n",
       "      <th>4</th>\n",
       "      <td>Finland</td>\n",
       "      <td>5</td>\n",
       "      <td>7.413</td>\n",
       "      <td>1.40598</td>\n",
       "      <td>1.13464</td>\n",
       "      <td>0.81091</td>\n",
       "      <td>0.57104</td>\n",
       "      <td>0.41004</td>\n",
       "      <td>0.25492</td>\n",
       "      <td>2.82596</td>\n",
       "    </tr>\n",
       "  </tbody>\n",
       "</table>\n",
       "</div>"
      ],
      "text/plain": [
       "       Country  Happiness_Rank  Happiness_Score  Economy   Family   Health  \\\n",
       "0      Denmark               1            7.526  1.44178  1.16374  0.79504   \n",
       "1  Switzerland               2            7.509  1.52733  1.14524  0.86303   \n",
       "2      Iceland               3            7.501  1.42666  1.18326  0.86733   \n",
       "3       Norway               4            7.498  1.57744  1.12690  0.79579   \n",
       "4      Finland               5            7.413  1.40598  1.13464  0.81091   \n",
       "\n",
       "   Freedom    Trust  Generosity  Dystopia_Residual  \n",
       "0  0.57941  0.44453     0.36171            2.73939  \n",
       "1  0.58557  0.41203     0.28083            2.69463  \n",
       "2  0.56624  0.14975     0.47678            2.83137  \n",
       "3  0.59609  0.35776     0.37895            2.66465  \n",
       "4  0.57104  0.41004     0.25492            2.82596  "
      ]
     },
     "execution_count": 49,
     "metadata": {},
     "output_type": "execute_result"
    }
   ],
   "source": [
    "columns_2016 = ['Region', 'Lower Confidence Interval', 'Upper Confidence Interval'] \n",
    "new_happines_2016 = happiness_2016.drop(columns_2016, axis=1)\n",
    "new_happines_2016.columns = ['Country', 'Happiness_Rank', 'Happiness_Score', 'Economy', 'Family', 'Health','Freedom', 'Trust', \n",
    "                             'Generosity', 'Dystopia_Residual']\n",
    "new_happines_2016.head()"
   ]
  },
  {
   "cell_type": "code",
   "execution_count": 55,
   "id": "973372cc",
   "metadata": {},
   "outputs": [
    {
     "data": {
      "text/html": [
       "<div>\n",
       "<style scoped>\n",
       "    .dataframe tbody tr th:only-of-type {\n",
       "        vertical-align: middle;\n",
       "    }\n",
       "\n",
       "    .dataframe tbody tr th {\n",
       "        vertical-align: top;\n",
       "    }\n",
       "\n",
       "    .dataframe thead th {\n",
       "        text-align: right;\n",
       "    }\n",
       "</style>\n",
       "<table border=\"1\" class=\"dataframe\">\n",
       "  <thead>\n",
       "    <tr style=\"text-align: right;\">\n",
       "      <th></th>\n",
       "      <th>Country</th>\n",
       "      <th>Happiness_Rank</th>\n",
       "      <th>Happiness_Score</th>\n",
       "      <th>Economy</th>\n",
       "      <th>Family</th>\n",
       "      <th>Health</th>\n",
       "      <th>Freedom</th>\n",
       "      <th>Trust</th>\n",
       "      <th>Generosity</th>\n",
       "      <th>Dystopia_Residual</th>\n",
       "    </tr>\n",
       "  </thead>\n",
       "  <tbody>\n",
       "    <tr>\n",
       "      <th>0</th>\n",
       "      <td>Norway</td>\n",
       "      <td>1</td>\n",
       "      <td>7.537</td>\n",
       "      <td>1.616463</td>\n",
       "      <td>1.533524</td>\n",
       "      <td>0.796667</td>\n",
       "      <td>0.635423</td>\n",
       "      <td>0.362012</td>\n",
       "      <td>0.315964</td>\n",
       "      <td>2.277027</td>\n",
       "    </tr>\n",
       "    <tr>\n",
       "      <th>1</th>\n",
       "      <td>Denmark</td>\n",
       "      <td>2</td>\n",
       "      <td>7.522</td>\n",
       "      <td>1.482383</td>\n",
       "      <td>1.551122</td>\n",
       "      <td>0.792566</td>\n",
       "      <td>0.626007</td>\n",
       "      <td>0.355280</td>\n",
       "      <td>0.400770</td>\n",
       "      <td>2.313707</td>\n",
       "    </tr>\n",
       "    <tr>\n",
       "      <th>2</th>\n",
       "      <td>Iceland</td>\n",
       "      <td>3</td>\n",
       "      <td>7.504</td>\n",
       "      <td>1.480633</td>\n",
       "      <td>1.610574</td>\n",
       "      <td>0.833552</td>\n",
       "      <td>0.627163</td>\n",
       "      <td>0.475540</td>\n",
       "      <td>0.153527</td>\n",
       "      <td>2.322715</td>\n",
       "    </tr>\n",
       "    <tr>\n",
       "      <th>3</th>\n",
       "      <td>Switzerland</td>\n",
       "      <td>4</td>\n",
       "      <td>7.494</td>\n",
       "      <td>1.564980</td>\n",
       "      <td>1.516912</td>\n",
       "      <td>0.858131</td>\n",
       "      <td>0.620071</td>\n",
       "      <td>0.290549</td>\n",
       "      <td>0.367007</td>\n",
       "      <td>2.276716</td>\n",
       "    </tr>\n",
       "    <tr>\n",
       "      <th>4</th>\n",
       "      <td>Finland</td>\n",
       "      <td>5</td>\n",
       "      <td>7.469</td>\n",
       "      <td>1.443572</td>\n",
       "      <td>1.540247</td>\n",
       "      <td>0.809158</td>\n",
       "      <td>0.617951</td>\n",
       "      <td>0.245483</td>\n",
       "      <td>0.382612</td>\n",
       "      <td>2.430182</td>\n",
       "    </tr>\n",
       "  </tbody>\n",
       "</table>\n",
       "</div>"
      ],
      "text/plain": [
       "       Country  Happiness_Rank  Happiness_Score   Economy    Family    Health  \\\n",
       "0       Norway               1            7.537  1.616463  1.533524  0.796667   \n",
       "1      Denmark               2            7.522  1.482383  1.551122  0.792566   \n",
       "2      Iceland               3            7.504  1.480633  1.610574  0.833552   \n",
       "3  Switzerland               4            7.494  1.564980  1.516912  0.858131   \n",
       "4      Finland               5            7.469  1.443572  1.540247  0.809158   \n",
       "\n",
       "    Freedom     Trust  Generosity  Dystopia_Residual  \n",
       "0  0.635423  0.362012    0.315964           2.277027  \n",
       "1  0.626007  0.355280    0.400770           2.313707  \n",
       "2  0.627163  0.475540    0.153527           2.322715  \n",
       "3  0.620071  0.290549    0.367007           2.276716  \n",
       "4  0.617951  0.245483    0.382612           2.430182  "
      ]
     },
     "execution_count": 55,
     "metadata": {},
     "output_type": "execute_result"
    }
   ],
   "source": [
    "columns_2017 = ['Whisker.high', 'Whisker.low']\n",
    "new_happiness_2017 = happiness_2017.drop(columns_2017, axis=1)\n",
    "new_happiness_2017.columns = ['Country', 'Happiness_Rank', 'Happiness_Score', 'Economy', 'Family','Health', 'Freedom', \n",
    "                              'Trust','Generosity', 'Dystopia_Residual']\n",
    "new_happiness_2017.head()"
   ]
  },
  {
   "cell_type": "markdown",
   "id": "c914d01c",
   "metadata": {},
   "source": [
    "### concatenate happiness and store them"
   ]
  },
  {
   "cell_type": "code",
   "execution_count": 61,
   "id": "6cc65494",
   "metadata": {},
   "outputs": [],
   "source": [
    "frames = [happiness_2015, new_happines_2016, new_happines_2016]\n",
    "happiness = pd.concat(frames)\n",
    "\n",
    "happiness.to_csv('happiness.csv', encoding='utf-8')"
   ]
  },
  {
   "cell_type": "code",
   "execution_count": 62,
   "id": "b0e0fa81",
   "metadata": {},
   "outputs": [
    {
     "data": {
      "text/html": [
       "<div>\n",
       "<style scoped>\n",
       "    .dataframe tbody tr th:only-of-type {\n",
       "        vertical-align: middle;\n",
       "    }\n",
       "\n",
       "    .dataframe tbody tr th {\n",
       "        vertical-align: top;\n",
       "    }\n",
       "\n",
       "    .dataframe thead th {\n",
       "        text-align: right;\n",
       "    }\n",
       "</style>\n",
       "<table border=\"1\" class=\"dataframe\">\n",
       "  <thead>\n",
       "    <tr style=\"text-align: right;\">\n",
       "      <th></th>\n",
       "      <th>Country</th>\n",
       "      <th>Region</th>\n",
       "      <th>Happiness_Rank</th>\n",
       "      <th>Happiness_Score</th>\n",
       "      <th>Standard Error</th>\n",
       "      <th>Economy</th>\n",
       "      <th>Family</th>\n",
       "      <th>Health</th>\n",
       "      <th>Freedom</th>\n",
       "      <th>Trust</th>\n",
       "      <th>Generosity</th>\n",
       "      <th>Dystopia_Residual</th>\n",
       "    </tr>\n",
       "  </thead>\n",
       "  <tbody>\n",
       "    <tr>\n",
       "      <th>0</th>\n",
       "      <td>Switzerland</td>\n",
       "      <td>Western Europe</td>\n",
       "      <td>1</td>\n",
       "      <td>7.587</td>\n",
       "      <td>0.03411</td>\n",
       "      <td>1.39651</td>\n",
       "      <td>1.34951</td>\n",
       "      <td>0.94143</td>\n",
       "      <td>0.66557</td>\n",
       "      <td>0.41978</td>\n",
       "      <td>0.29678</td>\n",
       "      <td>2.51738</td>\n",
       "    </tr>\n",
       "    <tr>\n",
       "      <th>1</th>\n",
       "      <td>Iceland</td>\n",
       "      <td>Western Europe</td>\n",
       "      <td>2</td>\n",
       "      <td>7.561</td>\n",
       "      <td>0.04884</td>\n",
       "      <td>1.30232</td>\n",
       "      <td>1.40223</td>\n",
       "      <td>0.94784</td>\n",
       "      <td>0.62877</td>\n",
       "      <td>0.14145</td>\n",
       "      <td>0.43630</td>\n",
       "      <td>2.70201</td>\n",
       "    </tr>\n",
       "    <tr>\n",
       "      <th>2</th>\n",
       "      <td>Denmark</td>\n",
       "      <td>Western Europe</td>\n",
       "      <td>3</td>\n",
       "      <td>7.527</td>\n",
       "      <td>0.03328</td>\n",
       "      <td>1.32548</td>\n",
       "      <td>1.36058</td>\n",
       "      <td>0.87464</td>\n",
       "      <td>0.64938</td>\n",
       "      <td>0.48357</td>\n",
       "      <td>0.34139</td>\n",
       "      <td>2.49204</td>\n",
       "    </tr>\n",
       "    <tr>\n",
       "      <th>3</th>\n",
       "      <td>Norway</td>\n",
       "      <td>Western Europe</td>\n",
       "      <td>4</td>\n",
       "      <td>7.522</td>\n",
       "      <td>0.03880</td>\n",
       "      <td>1.45900</td>\n",
       "      <td>1.33095</td>\n",
       "      <td>0.88521</td>\n",
       "      <td>0.66973</td>\n",
       "      <td>0.36503</td>\n",
       "      <td>0.34699</td>\n",
       "      <td>2.46531</td>\n",
       "    </tr>\n",
       "    <tr>\n",
       "      <th>4</th>\n",
       "      <td>Canada</td>\n",
       "      <td>North America</td>\n",
       "      <td>5</td>\n",
       "      <td>7.427</td>\n",
       "      <td>0.03553</td>\n",
       "      <td>1.32629</td>\n",
       "      <td>1.32261</td>\n",
       "      <td>0.90563</td>\n",
       "      <td>0.63297</td>\n",
       "      <td>0.32957</td>\n",
       "      <td>0.45811</td>\n",
       "      <td>2.45176</td>\n",
       "    </tr>\n",
       "  </tbody>\n",
       "</table>\n",
       "</div>"
      ],
      "text/plain": [
       "       Country          Region  Happiness_Rank  Happiness_Score  \\\n",
       "0  Switzerland  Western Europe               1            7.587   \n",
       "1      Iceland  Western Europe               2            7.561   \n",
       "2      Denmark  Western Europe               3            7.527   \n",
       "3       Norway  Western Europe               4            7.522   \n",
       "4       Canada   North America               5            7.427   \n",
       "\n",
       "   Standard Error  Economy   Family   Health  Freedom    Trust  Generosity  \\\n",
       "0         0.03411  1.39651  1.34951  0.94143  0.66557  0.41978     0.29678   \n",
       "1         0.04884  1.30232  1.40223  0.94784  0.62877  0.14145     0.43630   \n",
       "2         0.03328  1.32548  1.36058  0.87464  0.64938  0.48357     0.34139   \n",
       "3         0.03880  1.45900  1.33095  0.88521  0.66973  0.36503     0.34699   \n",
       "4         0.03553  1.32629  1.32261  0.90563  0.63297  0.32957     0.45811   \n",
       "\n",
       "   Dystopia_Residual  \n",
       "0            2.51738  \n",
       "1            2.70201  \n",
       "2            2.49204  \n",
       "3            2.46531  \n",
       "4            2.45176  "
      ]
     },
     "execution_count": 62,
     "metadata": {},
     "output_type": "execute_result"
    }
   ],
   "source": [
    "happiness.head()"
   ]
  },
  {
   "cell_type": "code",
   "execution_count": 64,
   "id": "5a93b4f5",
   "metadata": {},
   "outputs": [
    {
     "name": "stdout",
     "output_type": "stream",
     "text": [
      "(472, 12)\n",
      "<class 'pandas.core.frame.DataFrame'>\n",
      "Int64Index: 472 entries, 0 to 156\n",
      "Data columns (total 12 columns):\n",
      " #   Column             Non-Null Count  Dtype  \n",
      "---  ------             --------------  -----  \n",
      " 0   Country            472 non-null    object \n",
      " 1   Region             158 non-null    object \n",
      " 2   Happiness_Rank     472 non-null    int64  \n",
      " 3   Happiness_Score    472 non-null    float64\n",
      " 4   Standard Error     158 non-null    float64\n",
      " 5   Economy            472 non-null    float64\n",
      " 6   Family             472 non-null    float64\n",
      " 7   Health             472 non-null    float64\n",
      " 8   Freedom            472 non-null    float64\n",
      " 9   Trust              472 non-null    float64\n",
      " 10  Generosity         472 non-null    float64\n",
      " 11  Dystopia_Residual  472 non-null    float64\n",
      "dtypes: float64(9), int64(1), object(2)\n",
      "memory usage: 47.9+ KB\n"
     ]
    }
   ],
   "source": [
    "print(happiness.shape)\n",
    "happiness.info()"
   ]
  },
  {
   "cell_type": "markdown",
   "id": "d4f2d819",
   "metadata": {},
   "source": [
    "### Cleaning and Prepartion"
   ]
  },
  {
   "cell_type": "code",
   "execution_count": 102,
   "id": "111f1f5b",
   "metadata": {},
   "outputs": [
    {
     "data": {
      "text/plain": [
       "Country              0\n",
       "Happiness_Rank       0\n",
       "Happiness_Score      0\n",
       "Economy              0\n",
       "Family               0\n",
       "Health               0\n",
       "Freedom              0\n",
       "Trust                0\n",
       "Generosity           0\n",
       "Dystopia_Residual    0\n",
       "dtype: int64"
      ]
     },
     "execution_count": 102,
     "metadata": {},
     "output_type": "execute_result"
    }
   ],
   "source": [
    "happiness.duplicated().sum() # verified and drop if true\n",
    "\n",
    "happiness.isna().sum()\n",
    "# we have 475 row, and 314 missing ... i will drop this columns, too many missing value\n",
    "#happiness = happiness.drop('Region')\n",
    "happiness = happiness.drop(\"Standard Error\", axis=1)\n",
    "happiness.isna().sum()"
   ]
  },
  {
   "cell_type": "markdown",
   "id": "f1b9a039",
   "metadata": {},
   "source": [
    "### Exploratory"
   ]
  },
  {
   "cell_type": "code",
   "execution_count": 104,
   "id": "4b32d929",
   "metadata": {},
   "outputs": [
    {
     "data": {
      "text/plain": [
       "<AxesSubplot:>"
      ]
     },
     "execution_count": 104,
     "metadata": {},
     "output_type": "execute_result"
    },
    {
     "data": {
      "image/png": "[encoded data removed]",
      "text/plain": [
       "<Figure size 432x288 with 2 Axes>"
      ]
     },
     "metadata": {},
     "output_type": "display_data"
    }
   ],
   "source": [
    "corr = happiness.corr()\n",
    "sns.heatmap(corr, xticklabels=corr.columns, yticklabels=corr.columns, annot=True, cmap=sns.diverging_palette(220, 20, as_cmap=True))"
   ]
  },
  {
   "cell_type": "markdown",
   "id": "daecc7e9",
   "metadata": {},
   "source": [
    "### Delete all cols(variables) that aren't correlate with the Happiness_Rank variable "
   ]
  },
  {
   "cell_type": "code",
   "execution_count": 121,
   "id": "51a9cac2",
   "metadata": {},
   "outputs": [
    {
     "data": {
      "text/html": [
       "<div>\n",
       "<style scoped>\n",
       "    .dataframe tbody tr th:only-of-type {\n",
       "        vertical-align: middle;\n",
       "    }\n",
       "\n",
       "    .dataframe tbody tr th {\n",
       "        vertical-align: top;\n",
       "    }\n",
       "\n",
       "    .dataframe thead th {\n",
       "        text-align: right;\n",
       "    }\n",
       "</style>\n",
       "<table border=\"1\" class=\"dataframe\">\n",
       "  <thead>\n",
       "    <tr style=\"text-align: right;\">\n",
       "      <th></th>\n",
       "      <th>Country</th>\n",
       "      <th>Happiness_Rank</th>\n",
       "      <th>Happiness_Score</th>\n",
       "      <th>Economy</th>\n",
       "      <th>Family</th>\n",
       "      <th>Health</th>\n",
       "      <th>Freedom</th>\n",
       "      <th>Dystopia_Residual</th>\n",
       "    </tr>\n",
       "  </thead>\n",
       "  <tbody>\n",
       "    <tr>\n",
       "      <th>0</th>\n",
       "      <td>Switzerland</td>\n",
       "      <td>1</td>\n",
       "      <td>7.587</td>\n",
       "      <td>1.39651</td>\n",
       "      <td>1.34951</td>\n",
       "      <td>0.94143</td>\n",
       "      <td>0.66557</td>\n",
       "      <td>2.51738</td>\n",
       "    </tr>\n",
       "    <tr>\n",
       "      <th>1</th>\n",
       "      <td>Iceland</td>\n",
       "      <td>2</td>\n",
       "      <td>7.561</td>\n",
       "      <td>1.30232</td>\n",
       "      <td>1.40223</td>\n",
       "      <td>0.94784</td>\n",
       "      <td>0.62877</td>\n",
       "      <td>2.70201</td>\n",
       "    </tr>\n",
       "    <tr>\n",
       "      <th>2</th>\n",
       "      <td>Denmark</td>\n",
       "      <td>3</td>\n",
       "      <td>7.527</td>\n",
       "      <td>1.32548</td>\n",
       "      <td>1.36058</td>\n",
       "      <td>0.87464</td>\n",
       "      <td>0.64938</td>\n",
       "      <td>2.49204</td>\n",
       "    </tr>\n",
       "    <tr>\n",
       "      <th>3</th>\n",
       "      <td>Norway</td>\n",
       "      <td>4</td>\n",
       "      <td>7.522</td>\n",
       "      <td>1.45900</td>\n",
       "      <td>1.33095</td>\n",
       "      <td>0.88521</td>\n",
       "      <td>0.66973</td>\n",
       "      <td>2.46531</td>\n",
       "    </tr>\n",
       "    <tr>\n",
       "      <th>4</th>\n",
       "      <td>Canada</td>\n",
       "      <td>5</td>\n",
       "      <td>7.427</td>\n",
       "      <td>1.32629</td>\n",
       "      <td>1.32261</td>\n",
       "      <td>0.90563</td>\n",
       "      <td>0.63297</td>\n",
       "      <td>2.45176</td>\n",
       "    </tr>\n",
       "  </tbody>\n",
       "</table>\n",
       "</div>"
      ],
      "text/plain": [
       "       Country  Happiness_Rank  Happiness_Score  Economy   Family   Health  \\\n",
       "0  Switzerland               1            7.587  1.39651  1.34951  0.94143   \n",
       "1      Iceland               2            7.561  1.30232  1.40223  0.94784   \n",
       "2      Denmark               3            7.527  1.32548  1.36058  0.87464   \n",
       "3       Norway               4            7.522  1.45900  1.33095  0.88521   \n",
       "4       Canada               5            7.427  1.32629  1.32261  0.90563   \n",
       "\n",
       "   Freedom  Dystopia_Residual  \n",
       "0  0.66557            2.51738  \n",
       "1  0.62877            2.70201  \n",
       "2  0.64938            2.49204  \n",
       "3  0.66973            2.46531  \n",
       "4  0.63297            2.45176  "
      ]
     },
     "execution_count": 121,
     "metadata": {},
     "output_type": "execute_result"
    }
   ],
   "source": [
    "cols = ['Generosity', 'Trust']\n",
    "min_happiness = happiness.drop(cols, axis=1)\n",
    "min_happiness.head()"
   ]
  },
  {
   "cell_type": "code",
   "execution_count": 123,
   "id": "52a831c8",
   "metadata": {},
   "outputs": [
    {
     "data": {
      "text/plain": [
       "<AxesSubplot:>"
      ]
     },
     "execution_count": 123,
     "metadata": {},
     "output_type": "execute_result"
    },
    {
     "data": {
      "image/png": "[encoded data removed]",
      "text/plain": [
       "<Figure size 432x288 with 2 Axes>"
      ]
     },
     "metadata": {},
     "output_type": "display_data"
    }
   ],
   "source": [
    "corr = min_happiness.corr()\n",
    "sns.heatmap(corr, xticklabels=corr.columns, yticklabels=corr.columns, annot=True, cmap=sns.diverging_palette(220, 20, as_cmap=True))"
   ]
  },
  {
   "cell_type": "code",
   "execution_count": 149,
   "id": "be6fdeb4",
   "metadata": {},
   "outputs": [
    {
     "name": "stderr",
     "output_type": "stream",
     "text": [
      "*c* argument looks like a single numeric RGB or RGBA sequence, which should be avoided as value-mapping will have precedence in case its length matches with *x* & *y*.  Please use the *color* keyword-argument or provide a 2D array with a single row if you intend to specify the same RGB or RGBA value for all points.\n"
     ]
    },
    {
     "data": {
      "text/plain": [
       "<AxesSubplot:xlabel='Happiness_Score', ylabel='Economy'>"
      ]
     },
     "execution_count": 149,
     "metadata": {},
     "output_type": "execute_result"
    },
    {
     "data": {
      "image/png": "[encoded data removed]",
      "text/plain": [
       "<Figure size 432x288 with 1 Axes>"
      ]
     },
     "metadata": {},
     "output_type": "display_data"
    }
   ],
   "source": [
    "min_happiness.plot(x='Happiness_Score', y='Economy', kind='scatter')"
   ]
  },
  {
   "cell_type": "code",
   "execution_count": 108,
   "id": "165e269e",
   "metadata": {},
   "outputs": [
    {
     "data": {
      "text/html": [
       "<div>\n",
       "<style scoped>\n",
       "    .dataframe tbody tr th:only-of-type {\n",
       "        vertical-align: middle;\n",
       "    }\n",
       "\n",
       "    .dataframe tbody tr th {\n",
       "        vertical-align: top;\n",
       "    }\n",
       "\n",
       "    .dataframe thead th {\n",
       "        text-align: right;\n",
       "    }\n",
       "</style>\n",
       "<table border=\"1\" class=\"dataframe\">\n",
       "  <thead>\n",
       "    <tr style=\"text-align: right;\">\n",
       "      <th></th>\n",
       "      <th>Happiness_Rank</th>\n",
       "      <th>Happiness_Score</th>\n",
       "    </tr>\n",
       "  </thead>\n",
       "  <tbody>\n",
       "    <tr>\n",
       "      <th>0</th>\n",
       "      <td>1</td>\n",
       "      <td>7.587</td>\n",
       "    </tr>\n",
       "    <tr>\n",
       "      <th>1</th>\n",
       "      <td>2</td>\n",
       "      <td>7.561</td>\n",
       "    </tr>\n",
       "    <tr>\n",
       "      <th>2</th>\n",
       "      <td>3</td>\n",
       "      <td>7.527</td>\n",
       "    </tr>\n",
       "    <tr>\n",
       "      <th>3</th>\n",
       "      <td>4</td>\n",
       "      <td>7.522</td>\n",
       "    </tr>\n",
       "    <tr>\n",
       "      <th>4</th>\n",
       "      <td>5</td>\n",
       "      <td>7.427</td>\n",
       "    </tr>\n",
       "  </tbody>\n",
       "</table>\n",
       "</div>"
      ],
      "text/plain": [
       "   Happiness_Rank  Happiness_Score\n",
       "0               1            7.587\n",
       "1               2            7.561\n",
       "2               3            7.527\n",
       "3               4            7.522\n",
       "4               5            7.427"
      ]
     },
     "execution_count": 108,
     "metadata": {},
     "output_type": "execute_result"
    }
   ],
   "source": [
    "happiness[['Happiness_Rank', 'Happiness_Score']].head()"
   ]
  },
  {
   "cell_type": "code",
   "execution_count": 150,
   "id": "56403bba",
   "metadata": {},
   "outputs": [
    {
     "name": "stderr",
     "output_type": "stream",
     "text": [
      "*c* argument looks like a single numeric RGB or RGBA sequence, which should be avoided as value-mapping will have precedence in case its length matches with *x* & *y*.  Please use the *color* keyword-argument or provide a 2D array with a single row if you intend to specify the same RGB or RGBA value for all points.\n"
     ]
    },
    {
     "data": {
      "text/plain": [
       "<AxesSubplot:xlabel='Happiness_Score', ylabel='Trust'>"
      ]
     },
     "execution_count": 150,
     "metadata": {},
     "output_type": "execute_result"
    },
    {
     "data": {
      "image/png": "[encoded data removed]",
      "text/plain": [
       "<Figure size 432x288 with 1 Axes>"
      ]
     },
     "metadata": {},
     "output_type": "display_data"
    }
   ],
   "source": [
    "happiness.plot(x='Happiness_Score', y='Trust', kind='scatter')"
   ]
  },
  {
   "cell_type": "markdown",
   "id": "808330e5",
   "metadata": {},
   "source": [
    "#### select the most correlate variable > 0.6 with the happiness score(is correlate negatively 0.99 with Happiness Rank)"
   ]
  },
  {
   "cell_type": "code",
   "execution_count": 128,
   "id": "5bbf323c",
   "metadata": {},
   "outputs": [
    {
     "data": {
      "text/html": [
       "<div>\n",
       "<style scoped>\n",
       "    .dataframe tbody tr th:only-of-type {\n",
       "        vertical-align: middle;\n",
       "    }\n",
       "\n",
       "    .dataframe tbody tr th {\n",
       "        vertical-align: top;\n",
       "    }\n",
       "\n",
       "    .dataframe thead th {\n",
       "        text-align: right;\n",
       "    }\n",
       "</style>\n",
       "<table border=\"1\" class=\"dataframe\">\n",
       "  <thead>\n",
       "    <tr style=\"text-align: right;\">\n",
       "      <th></th>\n",
       "      <th>Happiness_Rank</th>\n",
       "      <th>Happiness_Score</th>\n",
       "      <th>Economy</th>\n",
       "      <th>Family</th>\n",
       "      <th>Health</th>\n",
       "      <th>Freedom</th>\n",
       "      <th>Dystopia_Residual</th>\n",
       "    </tr>\n",
       "  </thead>\n",
       "  <tbody>\n",
       "    <tr>\n",
       "      <th>Happiness_Rank</th>\n",
       "      <td>1.000000</td>\n",
       "      <td>0.994513</td>\n",
       "      <td>0.785332</td>\n",
       "      <td>0.690893</td>\n",
       "      <td>0.747441</td>\n",
       "      <td>0.546724</td>\n",
       "      <td>0.526533</td>\n",
       "    </tr>\n",
       "    <tr>\n",
       "      <th>Happiness_Score</th>\n",
       "      <td>0.994513</td>\n",
       "      <td>1.000000</td>\n",
       "      <td>0.781462</td>\n",
       "      <td>0.697724</td>\n",
       "      <td>0.742172</td>\n",
       "      <td>0.557259</td>\n",
       "      <td>0.529588</td>\n",
       "    </tr>\n",
       "    <tr>\n",
       "      <th>Economy</th>\n",
       "      <td>0.785332</td>\n",
       "      <td>0.781462</td>\n",
       "      <td>1.000000</td>\n",
       "      <td>0.579153</td>\n",
       "      <td>0.796179</td>\n",
       "      <td>0.333480</td>\n",
       "      <td>0.081364</td>\n",
       "    </tr>\n",
       "    <tr>\n",
       "      <th>Family</th>\n",
       "      <td>0.690893</td>\n",
       "      <td>0.697724</td>\n",
       "      <td>0.579153</td>\n",
       "      <td>1.000000</td>\n",
       "      <td>0.578114</td>\n",
       "      <td>0.475134</td>\n",
       "      <td>0.056561</td>\n",
       "    </tr>\n",
       "    <tr>\n",
       "      <th>Health</th>\n",
       "      <td>0.747441</td>\n",
       "      <td>0.742172</td>\n",
       "      <td>0.796179</td>\n",
       "      <td>0.578114</td>\n",
       "      <td>1.000000</td>\n",
       "      <td>0.364977</td>\n",
       "      <td>0.041689</td>\n",
       "    </tr>\n",
       "    <tr>\n",
       "      <th>Freedom</th>\n",
       "      <td>0.546724</td>\n",
       "      <td>0.557259</td>\n",
       "      <td>0.333480</td>\n",
       "      <td>0.475134</td>\n",
       "      <td>0.364977</td>\n",
       "      <td>1.000000</td>\n",
       "      <td>0.043592</td>\n",
       "    </tr>\n",
       "    <tr>\n",
       "      <th>Dystopia_Residual</th>\n",
       "      <td>0.526533</td>\n",
       "      <td>0.529588</td>\n",
       "      <td>0.081364</td>\n",
       "      <td>0.056561</td>\n",
       "      <td>0.041689</td>\n",
       "      <td>0.043592</td>\n",
       "      <td>1.000000</td>\n",
       "    </tr>\n",
       "  </tbody>\n",
       "</table>\n",
       "</div>"
      ],
      "text/plain": [
       "                   Happiness_Rank  Happiness_Score   Economy    Family  \\\n",
       "Happiness_Rank           1.000000         0.994513  0.785332  0.690893   \n",
       "Happiness_Score          0.994513         1.000000  0.781462  0.697724   \n",
       "Economy                  0.785332         0.781462  1.000000  0.579153   \n",
       "Family                   0.690893         0.697724  0.579153  1.000000   \n",
       "Health                   0.747441         0.742172  0.796179  0.578114   \n",
       "Freedom                  0.546724         0.557259  0.333480  0.475134   \n",
       "Dystopia_Residual        0.526533         0.529588  0.081364  0.056561   \n",
       "\n",
       "                     Health   Freedom  Dystopia_Residual  \n",
       "Happiness_Rank     0.747441  0.546724           0.526533  \n",
       "Happiness_Score    0.742172  0.557259           0.529588  \n",
       "Economy            0.796179  0.333480           0.081364  \n",
       "Family             0.578114  0.475134           0.056561  \n",
       "Health             1.000000  0.364977           0.041689  \n",
       "Freedom            0.364977  1.000000           0.043592  \n",
       "Dystopia_Residual  0.041689  0.043592           1.000000  "
      ]
     },
     "execution_count": 128,
     "metadata": {},
     "output_type": "execute_result"
    }
   ],
   "source": [
    "temp = min_happiness.corr().abs()\n",
    "temp"
   ]
  },
  {
   "cell_type": "code",
   "execution_count": 129,
   "id": "7e83e2d4",
   "metadata": {},
   "outputs": [
    {
     "data": {
      "text/plain": [
       "Happiness_Rank     Happiness_Rank       1.000000\n",
       "                   Happiness_Score      0.994513\n",
       "                   Economy              0.785332\n",
       "                   Family               0.690893\n",
       "                   Health               0.747441\n",
       "                   Freedom              0.546724\n",
       "                   Dystopia_Residual    0.526533\n",
       "Happiness_Score    Happiness_Rank       0.994513\n",
       "                   Happiness_Score      1.000000\n",
       "                   Economy              0.781462\n",
       "                   Family               0.697724\n",
       "                   Health               0.742172\n",
       "                   Freedom              0.557259\n",
       "                   Dystopia_Residual    0.529588\n",
       "Economy            Happiness_Rank       0.785332\n",
       "                   Happiness_Score      0.781462\n",
       "                   Economy              1.000000\n",
       "                   Family               0.579153\n",
       "                   Health               0.796179\n",
       "                   Freedom              0.333480\n",
       "                   Dystopia_Residual    0.081364\n",
       "Family             Happiness_Rank       0.690893\n",
       "                   Happiness_Score      0.697724\n",
       "                   Economy              0.579153\n",
       "                   Family               1.000000\n",
       "                   Health               0.578114\n",
       "                   Freedom              0.475134\n",
       "                   Dystopia_Residual    0.056561\n",
       "Health             Happiness_Rank       0.747441\n",
       "                   Happiness_Score      0.742172\n",
       "                   Economy              0.796179\n",
       "                   Family               0.578114\n",
       "                   Health               1.000000\n",
       "                   Freedom              0.364977\n",
       "                   Dystopia_Residual    0.041689\n",
       "Freedom            Happiness_Rank       0.546724\n",
       "                   Happiness_Score      0.557259\n",
       "                   Economy              0.333480\n",
       "                   Family               0.475134\n",
       "                   Health               0.364977\n",
       "                   Freedom              1.000000\n",
       "                   Dystopia_Residual    0.043592\n",
       "Dystopia_Residual  Happiness_Rank       0.526533\n",
       "                   Happiness_Score      0.529588\n",
       "                   Economy              0.081364\n",
       "                   Family               0.056561\n",
       "                   Health               0.041689\n",
       "                   Freedom              0.043592\n",
       "                   Dystopia_Residual    1.000000\n",
       "dtype: float64"
      ]
     },
     "execution_count": 129,
     "metadata": {},
     "output_type": "execute_result"
    }
   ],
   "source": [
    "s = temp.unstack()\n",
    "s"
   ]
  },
  {
   "cell_type": "markdown",
   "id": "6f298555",
   "metadata": {},
   "source": [
    "#### we use this function to filterate this results"
   ]
  },
  {
   "cell_type": "code",
   "execution_count": 137,
   "id": "53ff9c79",
   "metadata": {},
   "outputs": [
    {
     "data": {
      "text/plain": [
       "Happiness_Rank   Happiness_Score   -0.994513\n",
       "                 Economy           -0.785332\n",
       "                 Health            -0.747441\n",
       "                 Family            -0.690893\n",
       "Happiness_Score  Family             0.697724\n",
       "                 Health             0.742172\n",
       "                 Economy            0.781462\n",
       "Economy          Health             0.796179\n",
       "Happiness_Rank   Happiness_Rank          NaN\n",
       "dtype: float64"
      ]
     },
     "execution_count": 137,
     "metadata": {},
     "output_type": "execute_result"
    }
   ],
   "source": [
    "def corrFilter(x: pd.DataFrame, bound: float):\n",
    "    xCorr = x.corr()\n",
    "    xFiltered = xCorr[((xCorr >= bound) | (xCorr <= -bound)) & (xCorr !=1.000)]\n",
    "    xFlattened = xFiltered.unstack().sort_values().drop_duplicates()\n",
    "    return xFlattened\n",
    "\n",
    "corrFilter(min_happiness, .6)"
   ]
  },
  {
   "cell_type": "code",
   "execution_count": 139,
   "id": "1339afba",
   "metadata": {},
   "outputs": [
    {
     "data": {
      "text/plain": [
       "Index(['Country', 'Dystopia_Residual', 'Freedom'], dtype='object')"
      ]
     },
     "execution_count": 139,
     "metadata": {},
     "output_type": "execute_result"
    }
   ],
   "source": [
    "cols_except = ['Happiness_Rank','Happiness_Score', 'Economy', 'Health', 'Family']\n",
    "min_happiness.columns.difference(cols_except)"
   ]
  },
  {
   "cell_type": "code",
   "execution_count": 146,
   "id": "3155acc0",
   "metadata": {},
   "outputs": [
    {
     "data": {
      "text/html": [
       "<div>\n",
       "<style scoped>\n",
       "    .dataframe tbody tr th:only-of-type {\n",
       "        vertical-align: middle;\n",
       "    }\n",
       "\n",
       "    .dataframe tbody tr th {\n",
       "        vertical-align: top;\n",
       "    }\n",
       "\n",
       "    .dataframe thead th {\n",
       "        text-align: right;\n",
       "    }\n",
       "</style>\n",
       "<table border=\"1\" class=\"dataframe\">\n",
       "  <thead>\n",
       "    <tr style=\"text-align: right;\">\n",
       "      <th></th>\n",
       "      <th>Happiness_Score</th>\n",
       "      <th>Economy</th>\n",
       "      <th>Family</th>\n",
       "      <th>Health</th>\n",
       "    </tr>\n",
       "  </thead>\n",
       "  <tbody>\n",
       "    <tr>\n",
       "      <th>0</th>\n",
       "      <td>7.587</td>\n",
       "      <td>1.39651</td>\n",
       "      <td>1.34951</td>\n",
       "      <td>0.94143</td>\n",
       "    </tr>\n",
       "    <tr>\n",
       "      <th>1</th>\n",
       "      <td>7.561</td>\n",
       "      <td>1.30232</td>\n",
       "      <td>1.40223</td>\n",
       "      <td>0.94784</td>\n",
       "    </tr>\n",
       "    <tr>\n",
       "      <th>2</th>\n",
       "      <td>7.527</td>\n",
       "      <td>1.32548</td>\n",
       "      <td>1.36058</td>\n",
       "      <td>0.87464</td>\n",
       "    </tr>\n",
       "    <tr>\n",
       "      <th>3</th>\n",
       "      <td>7.522</td>\n",
       "      <td>1.45900</td>\n",
       "      <td>1.33095</td>\n",
       "      <td>0.88521</td>\n",
       "    </tr>\n",
       "    <tr>\n",
       "      <th>4</th>\n",
       "      <td>7.427</td>\n",
       "      <td>1.32629</td>\n",
       "      <td>1.32261</td>\n",
       "      <td>0.90563</td>\n",
       "    </tr>\n",
       "  </tbody>\n",
       "</table>\n",
       "</div>"
      ],
      "text/plain": [
       "   Happiness_Score  Economy   Family   Health\n",
       "0            7.587  1.39651  1.34951  0.94143\n",
       "1            7.561  1.30232  1.40223  0.94784\n",
       "2            7.527  1.32548  1.36058  0.87464\n",
       "3            7.522  1.45900  1.33095  0.88521\n",
       "4            7.427  1.32629  1.32261  0.90563"
      ]
     },
     "execution_count": 146,
     "metadata": {},
     "output_type": "execute_result"
    }
   ],
   "source": [
    "min_happiness.drop(['Country', 'Happiness_Rank', 'Dystopia_Residual', 'Freedom'], axis=1, inplace=True)\n",
    "min_happiness.head()"
   ]
  },
  {
   "cell_type": "code",
   "execution_count": 151,
   "id": "b1cde5ba",
   "metadata": {},
   "outputs": [
    {
     "data": {
      "text/plain": [
       "<AxesSubplot:>"
      ]
     },
     "execution_count": 151,
     "metadata": {},
     "output_type": "execute_result"
    },
    {
     "data": {
      "image/png": "[encoded data removed]",
      "text/plain": [
       "<Figure size 432x288 with 2 Axes>"
      ]
     },
     "metadata": {},
     "output_type": "display_data"
    }
   ],
   "source": [
    "corr = min_happiness.corr()\n",
    "sns.heatmap(corr, annot=True)"
   ]
  },
  {
   "cell_type": "code",
   "execution_count": 152,
   "id": "86f72866",
   "metadata": {},
   "outputs": [
    {
     "name": "stderr",
     "output_type": "stream",
     "text": [
      "*c* argument looks like a single numeric RGB or RGBA sequence, which should be avoided as value-mapping will have precedence in case its length matches with *x* & *y*.  Please use the *color* keyword-argument or provide a 2D array with a single row if you intend to specify the same RGB or RGBA value for all points.\n"
     ]
    },
    {
     "data": {
      "text/plain": [
       "<AxesSubplot:xlabel='Economy', ylabel='Health'>"
      ]
     },
     "execution_count": 152,
     "metadata": {},
     "output_type": "execute_result"
    },
    {
     "data": {
      "image/png": "[encoded data removed]",
      "text/plain": [
       "<Figure size 432x288 with 1 Axes>"
      ]
     },
     "metadata": {},
     "output_type": "display_data"
    }
   ],
   "source": [
    "# notice also that Economy is higher correlate with Health 0.8\n",
    "min_happiness.plot(x='Economy', y='Health', kind='scatter')"
   ]
  },
  {
   "cell_type": "markdown",
   "id": "2fa94c59",
   "metadata": {},
   "source": [
    "### Create map of country happiness score"
   ]
  },
  {
   "cell_type": "code",
   "execution_count": 153,
   "id": "0bcdb86e",
   "metadata": {},
   "outputs": [
    {
     "data": {
      "application/vnd.plotly.v1+json": {
       "config": {
        "linkText": "Export to plot.ly",
        "plotlyServerURL": "https://plot.ly",
        "showLink": false
       },
       "data": [
        {
         "colorscale": [
          [
           0,
           "#440154"
          ],
          [
           0.1111111111111111,
           "#482878"
          ],
          [
           0.2222222222222222,
           "#3e4989"
          ],
          [
           0.3333333333333333,
           "#31688e"
          ],
          [
           0.4444444444444444,
           "#26828e"
          ],
          [
           0.5555555555555556,
           "#1f9e89"
          ],
          [
           0.6666666666666666,
           "#35b779"
          ],
          [
           0.7777777777777778,
           "#6ece58"
          ],
          [
           0.8888888888888888,
           "#b5de2b"
          ],
          [
           1,
           "#fde725"
          ]
         ],
         "locationmode": "country names",
         "locations": [
          "Switzerland",
          "Iceland",
          "Denmark",
          "Norway",
          "Canada",
          "Finland",
          "Netherlands",
          "Sweden",
          "New Zealand",
          "Australia",
          "Israel",
          "Costa Rica",
          "Austria",
          "Mexico",
          "United States",
          "Brazil",
          "Luxembourg",
          "Ireland",
          "Belgium",
          "United Arab Emirates",
          "United Kingdom",
          "Oman",
          "Venezuela",
          "Singapore",
          "Panama",
          "Germany",
          "Chile",
          "Qatar",
          "France",
          "Argentina",
          "Czech Republic",
          "Uruguay",
          "Colombia",
          "Thailand",
          "Saudi Arabia",
          "Spain",
          "Malta",
          "Taiwan",
          "Kuwait",
          "Suriname",
          "Trinidad and Tobago",
          "El Salvador",
          "Guatemala",
          "Uzbekistan",
          "Slovakia",
          "Japan",
          "South Korea",
          "Ecuador",
          "Bahrain",
          "Italy",
          "Bolivia",
          "Moldova",
          "Paraguay",
          "Kazakhstan",
          "Slovenia",
          "Lithuania",
          "Nicaragua",
          "Peru",
          "Belarus",
          "Poland",
          "Malaysia",
          "Croatia",
          "Libya",
          "Russia",
          "Jamaica",
          "North Cyprus",
          "Cyprus",
          "Algeria",
          "Kosovo",
          "Turkmenistan",
          "Mauritius",
          "Hong Kong",
          "Estonia",
          "Indonesia",
          "Vietnam",
          "Turkey",
          "Kyrgyzstan",
          "Nigeria",
          "Bhutan",
          "Azerbaijan",
          "Pakistan",
          "Jordan",
          "Montenegro",
          "China",
          "Zambia",
          "Romania",
          "Serbia",
          "Portugal",
          "Latvia",
          "Philippines",
          "Somaliland region",
          "Morocco",
          "Macedonia",
          "Mozambique",
          "Albania",
          "Bosnia and Herzegovina",
          "Lesotho",
          "Dominican Republic",
          "Laos",
          "Mongolia",
          "Swaziland",
          "Greece",
          "Lebanon",
          "Hungary",
          "Honduras",
          "Tajikistan",
          "Tunisia",
          "Palestinian Territories",
          "Bangladesh",
          "Iran",
          "Ukraine",
          "Iraq",
          "South Africa",
          "Ghana",
          "Zimbabwe",
          "Liberia",
          "India",
          "Sudan",
          "Haiti",
          "Congo (Kinshasa)",
          "Nepal",
          "Ethiopia",
          "Sierra Leone",
          "Mauritania",
          "Kenya",
          "Djibouti",
          "Armenia",
          "Botswana",
          "Myanmar",
          "Georgia",
          "Malawi",
          "Sri Lanka",
          "Cameroon",
          "Bulgaria",
          "Egypt",
          "Yemen",
          "Angola",
          "Mali",
          "Congo (Brazzaville)",
          "Comoros",
          "Uganda",
          "Senegal",
          "Gabon",
          "Niger",
          "Cambodia",
          "Tanzania",
          "Madagascar",
          "Central African Republic",
          "Chad",
          "Guinea",
          "Ivory Coast",
          "Burkina Faso",
          "Afghanistan",
          "Rwanda",
          "Benin",
          "Syria",
          "Burundi",
          "Togo",
          "Denmark",
          "Switzerland",
          "Iceland",
          "Norway",
          "Finland",
          "Canada",
          "Netherlands",
          "New Zealand",
          "Australia",
          "Sweden",
          "Israel",
          "Austria",
          "United States",
          "Costa Rica",
          "Puerto Rico",
          "Germany",
          "Brazil",
          "Belgium",
          "Ireland",
          "Luxembourg",
          "Mexico",
          "Singapore",
          "United Kingdom",
          "Chile",
          "Panama",
          "Argentina",
          "Czech Republic",
          "United Arab Emirates",
          "Uruguay",
          "Malta",
          "Colombia",
          "France",
          "Thailand",
          "Saudi Arabia",
          "Taiwan",
          "Qatar",
          "Spain",
          "Algeria",
          "Guatemala",
          "Suriname",
          "Kuwait",
          "Bahrain",
          "Trinidad and Tobago",
          "Venezuela",
          "Slovakia",
          "El Salvador",
          "Malaysia",
          "Nicaragua",
          "Uzbekistan",
          "Italy",
          "Ecuador",
          "Belize",
          "Japan",
          "Kazakhstan",
          "Moldova",
          "Russia",
          "Poland",
          "South Korea",
          "Bolivia",
          "Lithuania",
          "Belarus",
          "North Cyprus",
          "Slovenia",
          "Peru",
          "Turkmenistan",
          "Mauritius",
          "Libya",
          "Latvia",
          "Cyprus",
          "Paraguay",
          "Romania",
          "Estonia",
          "Jamaica",
          "Croatia",
          "Hong Kong",
          "Somalia",
          "Kosovo",
          "Turkey",
          "Indonesia",
          "Jordan",
          "Azerbaijan",
          "Philippines",
          "China",
          "Bhutan",
          "Kyrgyzstan",
          "Serbia",
          "Bosnia and Herzegovina",
          "Montenegro",
          "Dominican Republic",
          "Morocco",
          "Hungary",
          "Pakistan",
          "Lebanon",
          "Portugal",
          "Macedonia",
          "Vietnam",
          "Somaliland Region",
          "Tunisia",
          "Greece",
          "Tajikistan",
          "Mongolia",
          "Laos",
          "Nigeria",
          "Honduras",
          "Iran",
          "Zambia",
          "Nepal",
          "Palestinian Territories",
          "Albania",
          "Bangladesh",
          "Sierra Leone",
          "Iraq",
          "Namibia",
          "Cameroon",
          "Ethiopia",
          "South Africa",
          "Sri Lanka",
          "India",
          "Myanmar",
          "Egypt",
          "Armenia",
          "Kenya",
          "Ukraine",
          "Ghana",
          "Congo (Kinshasa)",
          "Georgia",
          "Congo (Brazzaville)",
          "Senegal",
          "Bulgaria",
          "Mauritania",
          "Zimbabwe",
          "Malawi",
          "Sudan",
          "Gabon",
          "Mali",
          "Haiti",
          "Botswana",
          "Comoros",
          "Ivory Coast",
          "Cambodia",
          "Angola",
          "Niger",
          "South Sudan",
          "Chad",
          "Burkina Faso",
          "Uganda",
          "Yemen",
          "Madagascar",
          "Tanzania",
          "Liberia",
          "Guinea",
          "Rwanda",
          "Benin",
          "Afghanistan",
          "Togo",
          "Syria",
          "Burundi",
          "Denmark",
          "Switzerland",
          "Iceland",
          "Norway",
          "Finland",
          "Canada",
          "Netherlands",
          "New Zealand",
          "Australia",
          "Sweden",
          "Israel",
          "Austria",
          "United States",
          "Costa Rica",
          "Puerto Rico",
          "Germany",
          "Brazil",
          "Belgium",
          "Ireland",
          "Luxembourg",
          "Mexico",
          "Singapore",
          "United Kingdom",
          "Chile",
          "Panama",
          "Argentina",
          "Czech Republic",
          "United Arab Emirates",
          "Uruguay",
          "Malta",
          "Colombia",
          "France",
          "Thailand",
          "Saudi Arabia",
          "Taiwan",
          "Qatar",
          "Spain",
          "Algeria",
          "Guatemala",
          "Suriname",
          "Kuwait",
          "Bahrain",
          "Trinidad and Tobago",
          "Venezuela",
          "Slovakia",
          "El Salvador",
          "Malaysia",
          "Nicaragua",
          "Uzbekistan",
          "Italy",
          "Ecuador",
          "Belize",
          "Japan",
          "Kazakhstan",
          "Moldova",
          "Russia",
          "Poland",
          "South Korea",
          "Bolivia",
          "Lithuania",
          "Belarus",
          "North Cyprus",
          "Slovenia",
          "Peru",
          "Turkmenistan",
          "Mauritius",
          "Libya",
          "Latvia",
          "Cyprus",
          "Paraguay",
          "Romania",
          "Estonia",
          "Jamaica",
          "Croatia",
          "Hong Kong",
          "Somalia",
          "Kosovo",
          "Turkey",
          "Indonesia",
          "Jordan",
          "Azerbaijan",
          "Philippines",
          "China",
          "Bhutan",
          "Kyrgyzstan",
          "Serbia",
          "Bosnia and Herzegovina",
          "Montenegro",
          "Dominican Republic",
          "Morocco",
          "Hungary",
          "Pakistan",
          "Lebanon",
          "Portugal",
          "Macedonia",
          "Vietnam",
          "Somaliland Region",
          "Tunisia",
          "Greece",
          "Tajikistan",
          "Mongolia",
          "Laos",
          "Nigeria",
          "Honduras",
          "Iran",
          "Zambia",
          "Nepal",
          "Palestinian Territories",
          "Albania",
          "Bangladesh",
          "Sierra Leone",
          "Iraq",
          "Namibia",
          "Cameroon",
          "Ethiopia",
          "South Africa",
          "Sri Lanka",
          "India",
          "Myanmar",
          "Egypt",
          "Armenia",
          "Kenya",
          "Ukraine",
          "Ghana",
          "Congo (Kinshasa)",
          "Georgia",
          "Congo (Brazzaville)",
          "Senegal",
          "Bulgaria",
          "Mauritania",
          "Zimbabwe",
          "Malawi",
          "Sudan",
          "Gabon",
          "Mali",
          "Haiti",
          "Botswana",
          "Comoros",
          "Ivory Coast",
          "Cambodia",
          "Angola",
          "Niger",
          "South Sudan",
          "Chad",
          "Burkina Faso",
          "Uganda",
          "Yemen",
          "Madagascar",
          "Tanzania",
          "Liberia",
          "Guinea",
          "Rwanda",
          "Benin",
          "Afghanistan",
          "Togo",
          "Syria",
          "Burundi"
         ],
         "text": [
          "Switzerland",
          "Iceland",
          "Denmark",
          "Norway",
          "Canada",
          "Finland",
          "Netherlands",
          "Sweden",
          "New Zealand",
          "Australia",
          "Israel",
          "Costa Rica",
          "Austria",
          "Mexico",
          "United States",
          "Brazil",
          "Luxembourg",
          "Ireland",
          "Belgium",
          "United Arab Emirates",
          "United Kingdom",
          "Oman",
          "Venezuela",
          "Singapore",
          "Panama",
          "Germany",
          "Chile",
          "Qatar",
          "France",
          "Argentina",
          "Czech Republic",
          "Uruguay",
          "Colombia",
          "Thailand",
          "Saudi Arabia",
          "Spain",
          "Malta",
          "Taiwan",
          "Kuwait",
          "Suriname",
          "Trinidad and Tobago",
          "El Salvador",
          "Guatemala",
          "Uzbekistan",
          "Slovakia",
          "Japan",
          "South Korea",
          "Ecuador",
          "Bahrain",
          "Italy",
          "Bolivia",
          "Moldova",
          "Paraguay",
          "Kazakhstan",
          "Slovenia",
          "Lithuania",
          "Nicaragua",
          "Peru",
          "Belarus",
          "Poland",
          "Malaysia",
          "Croatia",
          "Libya",
          "Russia",
          "Jamaica",
          "North Cyprus",
          "Cyprus",
          "Algeria",
          "Kosovo",
          "Turkmenistan",
          "Mauritius",
          "Hong Kong",
          "Estonia",
          "Indonesia",
          "Vietnam",
          "Turkey",
          "Kyrgyzstan",
          "Nigeria",
          "Bhutan",
          "Azerbaijan",
          "Pakistan",
          "Jordan",
          "Montenegro",
          "China",
          "Zambia",
          "Romania",
          "Serbia",
          "Portugal",
          "Latvia",
          "Philippines",
          "Somaliland region",
          "Morocco",
          "Macedonia",
          "Mozambique",
          "Albania",
          "Bosnia and Herzegovina",
          "Lesotho",
          "Dominican Republic",
          "Laos",
          "Mongolia",
          "Swaziland",
          "Greece",
          "Lebanon",
          "Hungary",
          "Honduras",
          "Tajikistan",
          "Tunisia",
          "Palestinian Territories",
          "Bangladesh",
          "Iran",
          "Ukraine",
          "Iraq",
          "South Africa",
          "Ghana",
          "Zimbabwe",
          "Liberia",
          "India",
          "Sudan",
          "Haiti",
          "Congo (Kinshasa)",
          "Nepal",
          "Ethiopia",
          "Sierra Leone",
          "Mauritania",
          "Kenya",
          "Djibouti",
          "Armenia",
          "Botswana",
          "Myanmar",
          "Georgia",
          "Malawi",
          "Sri Lanka",
          "Cameroon",
          "Bulgaria",
          "Egypt",
          "Yemen",
          "Angola",
          "Mali",
          "Congo (Brazzaville)",
          "Comoros",
          "Uganda",
          "Senegal",
          "Gabon",
          "Niger",
          "Cambodia",
          "Tanzania",
          "Madagascar",
          "Central African Republic",
          "Chad",
          "Guinea",
          "Ivory Coast",
          "Burkina Faso",
          "Afghanistan",
          "Rwanda",
          "Benin",
          "Syria",
          "Burundi",
          "Togo",
          "Denmark",
          "Switzerland",
          "Iceland",
          "Norway",
          "Finland",
          "Canada",
          "Netherlands",
          "New Zealand",
          "Australia",
          "Sweden",
          "Israel",
          "Austria",
          "United States",
          "Costa Rica",
          "Puerto Rico",
          "Germany",
          "Brazil",
          "Belgium",
          "Ireland",
          "Luxembourg",
          "Mexico",
          "Singapore",
          "United Kingdom",
          "Chile",
          "Panama",
          "Argentina",
          "Czech Republic",
          "United Arab Emirates",
          "Uruguay",
          "Malta",
          "Colombia",
          "France",
          "Thailand",
          "Saudi Arabia",
          "Taiwan",
          "Qatar",
          "Spain",
          "Algeria",
          "Guatemala",
          "Suriname",
          "Kuwait",
          "Bahrain",
          "Trinidad and Tobago",
          "Venezuela",
          "Slovakia",
          "El Salvador",
          "Malaysia",
          "Nicaragua",
          "Uzbekistan",
          "Italy",
          "Ecuador",
          "Belize",
          "Japan",
          "Kazakhstan",
          "Moldova",
          "Russia",
          "Poland",
          "South Korea",
          "Bolivia",
          "Lithuania",
          "Belarus",
          "North Cyprus",
          "Slovenia",
          "Peru",
          "Turkmenistan",
          "Mauritius",
          "Libya",
          "Latvia",
          "Cyprus",
          "Paraguay",
          "Romania",
          "Estonia",
          "Jamaica",
          "Croatia",
          "Hong Kong",
          "Somalia",
          "Kosovo",
          "Turkey",
          "Indonesia",
          "Jordan",
          "Azerbaijan",
          "Philippines",
          "China",
          "Bhutan",
          "Kyrgyzstan",
          "Serbia",
          "Bosnia and Herzegovina",
          "Montenegro",
          "Dominican Republic",
          "Morocco",
          "Hungary",
          "Pakistan",
          "Lebanon",
          "Portugal",
          "Macedonia",
          "Vietnam",
          "Somaliland Region",
          "Tunisia",
          "Greece",
          "Tajikistan",
          "Mongolia",
          "Laos",
          "Nigeria",
          "Honduras",
          "Iran",
          "Zambia",
          "Nepal",
          "Palestinian Territories",
          "Albania",
          "Bangladesh",
          "Sierra Leone",
          "Iraq",
          "Namibia",
          "Cameroon",
          "Ethiopia",
          "South Africa",
          "Sri Lanka",
          "India",
          "Myanmar",
          "Egypt",
          "Armenia",
          "Kenya",
          "Ukraine",
          "Ghana",
          "Congo (Kinshasa)",
          "Georgia",
          "Congo (Brazzaville)",
          "Senegal",
          "Bulgaria",
          "Mauritania",
          "Zimbabwe",
          "Malawi",
          "Sudan",
          "Gabon",
          "Mali",
          "Haiti",
          "Botswana",
          "Comoros",
          "Ivory Coast",
          "Cambodia",
          "Angola",
          "Niger",
          "South Sudan",
          "Chad",
          "Burkina Faso",
          "Uganda",
          "Yemen",
          "Madagascar",
          "Tanzania",
          "Liberia",
          "Guinea",
          "Rwanda",
          "Benin",
          "Afghanistan",
          "Togo",
          "Syria",
          "Burundi",
          "Denmark",
          "Switzerland",
          "Iceland",
          "Norway",
          "Finland",
          "Canada",
          "Netherlands",
          "New Zealand",
          "Australia",
          "Sweden",
          "Israel",
          "Austria",
          "United States",
          "Costa Rica",
          "Puerto Rico",
          "Germany",
          "Brazil",
          "Belgium",
          "Ireland",
          "Luxembourg",
          "Mexico",
          "Singapore",
          "United Kingdom",
          "Chile",
          "Panama",
          "Argentina",
          "Czech Republic",
          "United Arab Emirates",
          "Uruguay",
          "Malta",
          "Colombia",
          "France",
          "Thailand",
          "Saudi Arabia",
          "Taiwan",
          "Qatar",
          "Spain",
          "Algeria",
          "Guatemala",
          "Suriname",
          "Kuwait",
          "Bahrain",
          "Trinidad and Tobago",
          "Venezuela",
          "Slovakia",
          "El Salvador",
          "Malaysia",
          "Nicaragua",
          "Uzbekistan",
          "Italy",
          "Ecuador",
          "Belize",
          "Japan",
          "Kazakhstan",
          "Moldova",
          "Russia",
          "Poland",
          "South Korea",
          "Bolivia",
          "Lithuania",
          "Belarus",
          "North Cyprus",
          "Slovenia",
          "Peru",
          "Turkmenistan",
          "Mauritius",
          "Libya",
          "Latvia",
          "Cyprus",
          "Paraguay",
          "Romania",
          "Estonia",
          "Jamaica",
          "Croatia",
          "Hong Kong",
          "Somalia",
          "Kosovo",
          "Turkey",
          "Indonesia",
          "Jordan",
          "Azerbaijan",
          "Philippines",
          "China",
          "Bhutan",
          "Kyrgyzstan",
          "Serbia",
          "Bosnia and Herzegovina",
          "Montenegro",
          "Dominican Republic",
          "Morocco",
          "Hungary",
          "Pakistan",
          "Lebanon",
          "Portugal",
          "Macedonia",
          "Vietnam",
          "Somaliland Region",
          "Tunisia",
          "Greece",
          "Tajikistan",
          "Mongolia",
          "Laos",
          "Nigeria",
          "Honduras",
          "Iran",
          "Zambia",
          "Nepal",
          "Palestinian Territories",
          "Albania",
          "Bangladesh",
          "Sierra Leone",
          "Iraq",
          "Namibia",
          "Cameroon",
          "Ethiopia",
          "South Africa",
          "Sri Lanka",
          "India",
          "Myanmar",
          "Egypt",
          "Armenia",
          "Kenya",
          "Ukraine",
          "Ghana",
          "Congo (Kinshasa)",
          "Georgia",
          "Congo (Brazzaville)",
          "Senegal",
          "Bulgaria",
          "Mauritania",
          "Zimbabwe",
          "Malawi",
          "Sudan",
          "Gabon",
          "Mali",
          "Haiti",
          "Botswana",
          "Comoros",
          "Ivory Coast",
          "Cambodia",
          "Angola",
          "Niger",
          "South Sudan",
          "Chad",
          "Burkina Faso",
          "Uganda",
          "Yemen",
          "Madagascar",
          "Tanzania",
          "Liberia",
          "Guinea",
          "Rwanda",
          "Benin",
          "Afghanistan",
          "Togo",
          "Syria",
          "Burundi"
         ],
         "type": "choropleth",
         "z": [
          1,
          2,
          3,
          4,
          5,
          6,
          7,
          8,
          9,
          10,
          11,
          12,
          13,
          14,
          15,
          16,
          17,
          18,
          19,
          20,
          21,
          22,
          23,
          24,
          25,
          26,
          27,
          28,
          29,
          30,
          31,
          32,
          33,
          34,
          35,
          36,
          37,
          38,
          39,
          40,
          41,
          42,
          43,
          44,
          45,
          46,
          47,
          48,
          49,
          50,
          51,
          52,
          53,
          54,
          55,
          56,
          57,
          58,
          59,
          60,
          61,
          62,
          63,
          64,
          65,
          66,
          67,
          68,
          69,
          70,
          71,
          72,
          73,
          74,
          75,
          76,
          77,
          78,
          79,
          80,
          81,
          82,
          82,
          84,
          85,
          86,
          87,
          88,
          89,
          90,
          91,
          92,
          93,
          94,
          95,
          96,
          97,
          98,
          99,
          100,
          101,
          102,
          103,
          104,
          105,
          106,
          107,
          108,
          109,
          110,
          111,
          112,
          113,
          114,
          115,
          116,
          117,
          118,
          119,
          120,
          121,
          122,
          123,
          124,
          125,
          126,
          127,
          128,
          129,
          130,
          131,
          132,
          133,
          134,
          135,
          136,
          137,
          138,
          139,
          140,
          141,
          142,
          143,
          144,
          145,
          146,
          147,
          148,
          149,
          150,
          151,
          152,
          153,
          154,
          155,
          156,
          157,
          158,
          1,
          2,
          3,
          4,
          5,
          6,
          7,
          8,
          9,
          10,
          11,
          12,
          13,
          14,
          15,
          16,
          17,
          18,
          19,
          20,
          21,
          22,
          23,
          24,
          25,
          26,
          27,
          28,
          29,
          30,
          31,
          32,
          33,
          34,
          34,
          36,
          37,
          38,
          39,
          40,
          41,
          42,
          43,
          44,
          45,
          46,
          47,
          48,
          49,
          50,
          51,
          52,
          53,
          54,
          55,
          56,
          57,
          57,
          59,
          60,
          61,
          62,
          63,
          64,
          65,
          66,
          67,
          68,
          69,
          70,
          71,
          72,
          73,
          74,
          75,
          76,
          77,
          78,
          79,
          80,
          81,
          82,
          83,
          84,
          85,
          86,
          87,
          88,
          89,
          90,
          91,
          92,
          93,
          94,
          95,
          96,
          97,
          98,
          99,
          100,
          101,
          102,
          103,
          104,
          105,
          106,
          107,
          108,
          109,
          110,
          111,
          112,
          113,
          114,
          115,
          116,
          117,
          118,
          119,
          120,
          121,
          122,
          123,
          124,
          125,
          126,
          127,
          128,
          129,
          130,
          131,
          132,
          133,
          134,
          135,
          136,
          137,
          138,
          139,
          140,
          141,
          142,
          143,
          144,
          145,
          145,
          147,
          148,
          149,
          150,
          151,
          152,
          153,
          154,
          155,
          156,
          157,
          1,
          2,
          3,
          4,
          5,
          6,
          7,
          8,
          9,
          10,
          11,
          12,
          13,
          14,
          15,
          16,
          17,
          18,
          19,
          20,
          21,
          22,
          23,
          24,
          25,
          26,
          27,
          28,
          29,
          30,
          31,
          32,
          33,
          34,
          34,
          36,
          37,
          38,
          39,
          40,
          41,
          42,
          43,
          44,
          45,
          46,
          47,
          48,
          49,
          50,
          51,
          52,
          53,
          54,
          55,
          56,
          57,
          57,
          59,
          60,
          61,
          62,
          63,
          64,
          65,
          66,
          67,
          68,
          69,
          70,
          71,
          72,
          73,
          74,
          75,
          76,
          77,
          78,
          79,
          80,
          81,
          82,
          83,
          84,
          85,
          86,
          87,
          88,
          89,
          90,
          91,
          92,
          93,
          94,
          95,
          96,
          97,
          98,
          99,
          100,
          101,
          102,
          103,
          104,
          105,
          106,
          107,
          108,
          109,
          110,
          111,
          112,
          113,
          114,
          115,
          116,
          117,
          118,
          119,
          120,
          121,
          122,
          123,
          124,
          125,
          126,
          127,
          128,
          129,
          130,
          131,
          132,
          133,
          134,
          135,
          136,
          137,
          138,
          139,
          140,
          141,
          142,
          143,
          144,
          145,
          145,
          147,
          148,
          149,
          150,
          151,
          152,
          153,
          154,
          155,
          156,
          157
         ]
        }
       ],
       "layout": {
        "template": {
         "data": {
          "bar": [
           {
            "error_x": {
             "color": "#2a3f5f"
            },
            "error_y": {
             "color": "#2a3f5f"
            },
            "marker": {
             "line": {
              "color": "#E5ECF6",
              "width": 0.5
             },
             "pattern": {
              "fillmode": "overlay",
              "size": 10,
              "solidity": 0.2
             }
            },
            "type": "bar"
           }
          ],
          "barpolar": [
           {
            "marker": {
             "line": {
              "color": "#E5ECF6",
              "width": 0.5
             },
             "pattern": {
              "fillmode": "overlay",
              "size": 10,
              "solidity": 0.2
             }
            },
            "type": "barpolar"
           }
          ],
          "carpet": [
           {
            "aaxis": {
             "endlinecolor": "#2a3f5f",
             "gridcolor": "white",
             "linecolor": "white",
             "minorgridcolor": "white",
             "startlinecolor": "#2a3f5f"
            },
            "baxis": {
             "endlinecolor": "#2a3f5f",
             "gridcolor": "white",
             "linecolor": "white",
             "minorgridcolor": "white",
             "startlinecolor": "#2a3f5f"
            },
            "type": "carpet"
           }
          ],
          "choropleth": [
           {
            "colorbar": {
             "outlinewidth": 0,
             "ticks": ""
            },
            "type": "choropleth"
           }
          ],
          "contour": [
           {
            "colorbar": {
             "outlinewidth": 0,
             "ticks": ""
            },
            "colorscale": [
             [
              0,
              "#0d0887"
             ],
             [
              0.1111111111111111,
              "#46039f"
             ],
             [
              0.2222222222222222,
              "#7201a8"
             ],
             [
              0.3333333333333333,
              "#9c179e"
             ],
             [
              0.4444444444444444,
              "#bd3786"
             ],
             [
              0.5555555555555556,
              "#d8576b"
             ],
             [
              0.6666666666666666,
              "#ed7953"
             ],
             [
              0.7777777777777778,
              "#fb9f3a"
             ],
             [
              0.8888888888888888,
              "#fdca26"
             ],
             [
              1,
              "#f0f921"
             ]
            ],
            "type": "contour"
           }
          ],
          "contourcarpet": [
           {
            "colorbar": {
             "outlinewidth": 0,
             "ticks": ""
            },
            "type": "contourcarpet"
           }
          ],
          "heatmap": [
           {
            "colorbar": {
             "outlinewidth": 0,
             "ticks": ""
            },
            "colorscale": [
             [
              0,
              "#0d0887"
             ],
             [
              0.1111111111111111,
              "#46039f"
             ],
             [
              0.2222222222222222,
              "#7201a8"
             ],
             [
              0.3333333333333333,
              "#9c179e"
             ],
             [
              0.4444444444444444,
              "#bd3786"
             ],
             [
              0.5555555555555556,
              "#d8576b"
             ],
             [
              0.6666666666666666,
              "#ed7953"
             ],
             [
              0.7777777777777778,
              "#fb9f3a"
             ],
             [
              0.8888888888888888,
              "#fdca26"
             ],
             [
              1,
              "#f0f921"
             ]
            ],
            "type": "heatmap"
           }
          ],
          "heatmapgl": [
           {
            "colorbar": {
             "outlinewidth": 0,
             "ticks": ""
            },
            "colorscale": [
             [
              0,
              "#0d0887"
             ],
             [
              0.1111111111111111,
              "#46039f"
             ],
             [
              0.2222222222222222,
              "#7201a8"
             ],
             [
              0.3333333333333333,
              "#9c179e"
             ],
             [
              0.4444444444444444,
              "#bd3786"
             ],
             [
              0.5555555555555556,
              "#d8576b"
             ],
             [
              0.6666666666666666,
              "#ed7953"
             ],
             [
              0.7777777777777778,
              "#fb9f3a"
             ],
             [
              0.8888888888888888,
              "#fdca26"
             ],
             [
              1,
              "#f0f921"
             ]
            ],
            "type": "heatmapgl"
           }
          ],
          "histogram": [
           {
            "marker": {
             "pattern": {
              "fillmode": "overlay",
              "size": 10,
              "solidity": 0.2
             }
            },
            "type": "histogram"
           }
          ],
          "histogram2d": [
           {
            "colorbar": {
             "outlinewidth": 0,
             "ticks": ""
            },
            "colorscale": [
             [
              0,
              "#0d0887"
             ],
             [
              0.1111111111111111,
              "#46039f"
             ],
             [
              0.2222222222222222,
              "#7201a8"
             ],
             [
              0.3333333333333333,
              "#9c179e"
             ],
             [
              0.4444444444444444,
              "#bd3786"
             ],
             [
              0.5555555555555556,
              "#d8576b"
             ],
             [
              0.6666666666666666,
              "#ed7953"
             ],
             [
              0.7777777777777778,
              "#fb9f3a"
             ],
             [
              0.8888888888888888,
              "#fdca26"
             ],
             [
              1,
              "#f0f921"
             ]
            ],
            "type": "histogram2d"
           }
          ],
          "histogram2dcontour": [
           {
            "colorbar": {
             "outlinewidth": 0,
             "ticks": ""
            },
            "colorscale": [
             [
              0,
              "#0d0887"
             ],
             [
              0.1111111111111111,
              "#46039f"
             ],
             [
              0.2222222222222222,
              "#7201a8"
             ],
             [
              0.3333333333333333,
              "#9c179e"
             ],
             [
              0.4444444444444444,
              "#bd3786"
             ],
             [
              0.5555555555555556,
              "#d8576b"
             ],
             [
              0.6666666666666666,
              "#ed7953"
             ],
             [
              0.7777777777777778,
              "#fb9f3a"
             ],
             [
              0.8888888888888888,
              "#fdca26"
             ],
             [
              1,
              "#f0f921"
             ]
            ],
            "type": "histogram2dcontour"
           }
          ],
          "mesh3d": [
           {
            "colorbar": {
             "outlinewidth": 0,
             "ticks": ""
            },
            "type": "mesh3d"
           }
          ],
          "parcoords": [
           {
            "line": {
             "colorbar": {
              "outlinewidth": 0,
              "ticks": ""
             }
            },
            "type": "parcoords"
           }
          ],
          "pie": [
           {
            "automargin": true,
            "type": "pie"
           }
          ],
          "scatter": [
           {
            "marker": {
             "colorbar": {
              "outlinewidth": 0,
              "ticks": ""
             }
            },
            "type": "scatter"
           }
          ],
          "scatter3d": [
           {
            "line": {
             "colorbar": {
              "outlinewidth": 0,
              "ticks": ""
             }
            },
            "marker": {
             "colorbar": {
              "outlinewidth": 0,
              "ticks": ""
             }
            },
            "type": "scatter3d"
           }
          ],
          "scattercarpet": [
           {
            "marker": {
             "colorbar": {
              "outlinewidth": 0,
              "ticks": ""
             }
            },
            "type": "scattercarpet"
           }
          ],
          "scattergeo": [
           {
            "marker": {
             "colorbar": {
              "outlinewidth": 0,
              "ticks": ""
             }
            },
            "type": "scattergeo"
           }
          ],
          "scattergl": [
           {
            "marker": {
             "colorbar": {
              "outlinewidth": 0,
              "ticks": ""
             }
            },
            "type": "scattergl"
           }
          ],
          "scattermapbox": [
           {
            "marker": {
             "colorbar": {
              "outlinewidth": 0,
              "ticks": ""
             }
            },
            "type": "scattermapbox"
           }
          ],
          "scatterpolar": [
           {
            "marker": {
             "colorbar": {
              "outlinewidth": 0,
              "ticks": ""
             }
            },
            "type": "scatterpolar"
           }
          ],
          "scatterpolargl": [
           {
            "marker": {
             "colorbar": {
              "outlinewidth": 0,
              "ticks": ""
             }
            },
            "type": "scatterpolargl"
           }
          ],
          "scatterternary": [
           {
            "marker": {
             "colorbar": {
              "outlinewidth": 0,
              "ticks": ""
             }
            },
            "type": "scatterternary"
           }
          ],
          "surface": [
           {
            "colorbar": {
             "outlinewidth": 0,
             "ticks": ""
            },
            "colorscale": [
             [
              0,
              "#0d0887"
             ],
             [
              0.1111111111111111,
              "#46039f"
             ],
             [
              0.2222222222222222,
              "#7201a8"
             ],
             [
              0.3333333333333333,
              "#9c179e"
             ],
             [
              0.4444444444444444,
              "#bd3786"
             ],
             [
              0.5555555555555556,
              "#d8576b"
             ],
             [
              0.6666666666666666,
              "#ed7953"
             ],
             [
              0.7777777777777778,
              "#fb9f3a"
             ],
             [
              0.8888888888888888,
              "#fdca26"
             ],
             [
              1,
              "#f0f921"
             ]
            ],
            "type": "surface"
           }
          ],
          "table": [
           {
            "cells": {
             "fill": {
              "color": "#EBF0F8"
             },
             "line": {
              "color": "white"
             }
            },
            "header": {
             "fill": {
              "color": "#C8D4E3"
             },
             "line": {
              "color": "white"
             }
            },
            "type": "table"
           }
          ]
         },
         "layout": {
          "annotationdefaults": {
           "arrowcolor": "#2a3f5f",
           "arrowhead": 0,
           "arrowwidth": 1
          },
          "autotypenumbers": "strict",
          "coloraxis": {
           "colorbar": {
            "outlinewidth": 0,
            "ticks": ""
           }
          },
          "colorscale": {
           "diverging": [
            [
             0,
             "#8e0152"
            ],
            [
             0.1,
             "#c51b7d"
            ],
            [
             0.2,
             "#de77ae"
            ],
            [
             0.3,
             "#f1b6da"
            ],
            [
             0.4,
             "#fde0ef"
            ],
            [
             0.5,
             "#f7f7f7"
            ],
            [
             0.6,
             "#e6f5d0"
            ],
            [
             0.7,
             "#b8e186"
            ],
            [
             0.8,
             "#7fbc41"
            ],
            [
             0.9,
             "#4d9221"
            ],
            [
             1,
             "#276419"
            ]
           ],
           "sequential": [
            [
             0,
             "#0d0887"
            ],
            [
             0.1111111111111111,
             "#46039f"
            ],
            [
             0.2222222222222222,
             "#7201a8"
            ],
            [
             0.3333333333333333,
             "#9c179e"
            ],
            [
             0.4444444444444444,
             "#bd3786"
            ],
            [
             0.5555555555555556,
             "#d8576b"
            ],
            [
             0.6666666666666666,
             "#ed7953"
            ],
            [
             0.7777777777777778,
             "#fb9f3a"
            ],
            [
             0.8888888888888888,
             "#fdca26"
            ],
            [
             1,
             "#f0f921"
            ]
           ],
           "sequentialminus": [
            [
             0,
             "#0d0887"
            ],
            [
             0.1111111111111111,
             "#46039f"
            ],
            [
             0.2222222222222222,
             "#7201a8"
            ],
            [
             0.3333333333333333,
             "#9c179e"
            ],
            [
             0.4444444444444444,
             "#bd3786"
            ],
            [
             0.5555555555555556,
             "#d8576b"
            ],
            [
             0.6666666666666666,
             "#ed7953"
            ],
            [
             0.7777777777777778,
             "#fb9f3a"
            ],
            [
             0.8888888888888888,
             "#fdca26"
            ],
            [
             1,
             "#f0f921"
            ]
           ]
          },
          "colorway": [
           "#636efa",
           "#EF553B",
           "#00cc96",
           "#ab63fa",
           "#FFA15A",
           "#19d3f3",
           "#FF6692",
           "#B6E880",
           "#FF97FF",
           "#FECB52"
          ],
          "font": {
           "color": "#2a3f5f"
          },
          "geo": {
           "bgcolor": "white",
           "lakecolor": "white",
           "landcolor": "#E5ECF6",
           "showlakes": true,
           "showland": true,
           "subunitcolor": "white"
          },
          "hoverlabel": {
           "align": "left"
          },
          "hovermode": "closest",
          "mapbox": {
           "style": "light"
          },
          "paper_bgcolor": "white",
          "plot_bgcolor": "#E5ECF6",
          "polar": {
           "angularaxis": {
            "gridcolor": "white",
            "linecolor": "white",
            "ticks": ""
           },
           "bgcolor": "#E5ECF6",
           "radialaxis": {
            "gridcolor": "white",
            "linecolor": "white",
            "ticks": ""
           }
          },
          "scene": {
           "xaxis": {
            "backgroundcolor": "#E5ECF6",
            "gridcolor": "white",
            "gridwidth": 2,
            "linecolor": "white",
            "showbackground": true,
            "ticks": "",
            "zerolinecolor": "white"
           },
           "yaxis": {
            "backgroundcolor": "#E5ECF6",
            "gridcolor": "white",
            "gridwidth": 2,
            "linecolor": "white",
            "showbackground": true,
            "ticks": "",
            "zerolinecolor": "white"
           },
           "zaxis": {
            "backgroundcolor": "#E5ECF6",
            "gridcolor": "white",
            "gridwidth": 2,
            "linecolor": "white",
            "showbackground": true,
            "ticks": "",
            "zerolinecolor": "white"
           }
          },
          "shapedefaults": {
           "line": {
            "color": "#2a3f5f"
           }
          },
          "ternary": {
           "aaxis": {
            "gridcolor": "white",
            "linecolor": "white",
            "ticks": ""
           },
           "baxis": {
            "gridcolor": "white",
            "linecolor": "white",
            "ticks": ""
           },
           "bgcolor": "#E5ECF6",
           "caxis": {
            "gridcolor": "white",
            "linecolor": "white",
            "ticks": ""
           }
          },
          "title": {
           "x": 0.05
          },
          "xaxis": {
           "automargin": true,
           "gridcolor": "white",
           "linecolor": "white",
           "ticks": "",
           "title": {
            "standoff": 15
           },
           "zerolinecolor": "white",
           "zerolinewidth": 2
          },
          "yaxis": {
           "automargin": true,
           "gridcolor": "white",
           "linecolor": "white",
           "ticks": "",
           "title": {
            "standoff": 15
           },
           "zerolinecolor": "white",
           "zerolinewidth": 2
          }
         }
        },
        "title": {
         "text": "Happiness Rank Across the world"
        }
       }
      },
      "text/html": [
       "<div>                            <div id=\"b4f31d80-0e60-4b52-af97-6cd59d567ae5\" class=\"plotly-graph-div\" style=\"height:525px; width:100%;\"></div>            <script type=\"text/javascript\">                require([\"plotly\"], function(Plotly) {                    window.PLOTLYENV=window.PLOTLYENV || {};                                    if (document.getElementById(\"b4f31d80-0e60-4b52-af97-6cd59d567ae5\")) {                    Plotly.newPlot(                        \"b4f31d80-0e60-4b52-af97-6cd59d567ae5\",                        [{\"colorscale\":[[0.0,\"#440154\"],[0.1111111111111111,\"#482878\"],[0.2222222222222222,\"#3e4989\"],[0.3333333333333333,\"#31688e\"],[0.4444444444444444,\"#26828e\"],[0.5555555555555556,\"#1f9e89\"],[0.6666666666666666,\"#35b779\"],[0.7777777777777778,\"#6ece58\"],[0.8888888888888888,\"#b5de2b\"],[1.0,\"#fde725\"]],\"locationmode\":\"country names\",\"locations\":[\"Switzerland\",\"Iceland\",\"Denmark\",\"Norway\",\"Canada\",\"Finland\",\"Netherlands\",\"Sweden\",\"New Zealand\",\"Australia\",\"Israel\",\"Costa Rica\",\"Austria\",\"Mexico\",\"United States\",\"Brazil\",\"Luxembourg\",\"Ireland\",\"Belgium\",\"United Arab Emirates\",\"United Kingdom\",\"Oman\",\"Venezuela\",\"Singapore\",\"Panama\",\"Germany\",\"Chile\",\"Qatar\",\"France\",\"Argentina\",\"Czech Republic\",\"Uruguay\",\"Colombia\",\"Thailand\",\"Saudi Arabia\",\"Spain\",\"Malta\",\"Taiwan\",\"Kuwait\",\"Suriname\",\"Trinidad and Tobago\",\"El Salvador\",\"Guatemala\",\"Uzbekistan\",\"Slovakia\",\"Japan\",\"South Korea\",\"Ecuador\",\"Bahrain\",\"Italy\",\"Bolivia\",\"Moldova\",\"Paraguay\",\"Kazakhstan\",\"Slovenia\",\"Lithuania\",\"Nicaragua\",\"Peru\",\"Belarus\",\"Poland\",\"Malaysia\",\"Croatia\",\"Libya\",\"Russia\",\"Jamaica\",\"North Cyprus\",\"Cyprus\",\"Algeria\",\"Kosovo\",\"Turkmenistan\",\"Mauritius\",\"Hong Kong\",\"Estonia\",\"Indonesia\",\"Vietnam\",\"Turkey\",\"Kyrgyzstan\",\"Nigeria\",\"Bhutan\",\"Azerbaijan\",\"Pakistan\",\"Jordan\",\"Montenegro\",\"China\",\"Zambia\",\"Romania\",\"Serbia\",\"Portugal\",\"Latvia\",\"Philippines\",\"Somaliland region\",\"Morocco\",\"Macedonia\",\"Mozambique\",\"Albania\",\"Bosnia and Herzegovina\",\"Lesotho\",\"Dominican Republic\",\"Laos\",\"Mongolia\",\"Swaziland\",\"Greece\",\"Lebanon\",\"Hungary\",\"Honduras\",\"Tajikistan\",\"Tunisia\",\"Palestinian Territories\",\"Bangladesh\",\"Iran\",\"Ukraine\",\"Iraq\",\"South Africa\",\"Ghana\",\"Zimbabwe\",\"Liberia\",\"India\",\"Sudan\",\"Haiti\",\"Congo (Kinshasa)\",\"Nepal\",\"Ethiopia\",\"Sierra Leone\",\"Mauritania\",\"Kenya\",\"Djibouti\",\"Armenia\",\"Botswana\",\"Myanmar\",\"Georgia\",\"Malawi\",\"Sri Lanka\",\"Cameroon\",\"Bulgaria\",\"Egypt\",\"Yemen\",\"Angola\",\"Mali\",\"Congo (Brazzaville)\",\"Comoros\",\"Uganda\",\"Senegal\",\"Gabon\",\"Niger\",\"Cambodia\",\"Tanzania\",\"Madagascar\",\"Central African Republic\",\"Chad\",\"Guinea\",\"Ivory Coast\",\"Burkina Faso\",\"Afghanistan\",\"Rwanda\",\"Benin\",\"Syria\",\"Burundi\",\"Togo\",\"Denmark\",\"Switzerland\",\"Iceland\",\"Norway\",\"Finland\",\"Canada\",\"Netherlands\",\"New Zealand\",\"Australia\",\"Sweden\",\"Israel\",\"Austria\",\"United States\",\"Costa Rica\",\"Puerto Rico\",\"Germany\",\"Brazil\",\"Belgium\",\"Ireland\",\"Luxembourg\",\"Mexico\",\"Singapore\",\"United Kingdom\",\"Chile\",\"Panama\",\"Argentina\",\"Czech Republic\",\"United Arab Emirates\",\"Uruguay\",\"Malta\",\"Colombia\",\"France\",\"Thailand\",\"Saudi Arabia\",\"Taiwan\",\"Qatar\",\"Spain\",\"Algeria\",\"Guatemala\",\"Suriname\",\"Kuwait\",\"Bahrain\",\"Trinidad and Tobago\",\"Venezuela\",\"Slovakia\",\"El Salvador\",\"Malaysia\",\"Nicaragua\",\"Uzbekistan\",\"Italy\",\"Ecuador\",\"Belize\",\"Japan\",\"Kazakhstan\",\"Moldova\",\"Russia\",\"Poland\",\"South Korea\",\"Bolivia\",\"Lithuania\",\"Belarus\",\"North Cyprus\",\"Slovenia\",\"Peru\",\"Turkmenistan\",\"Mauritius\",\"Libya\",\"Latvia\",\"Cyprus\",\"Paraguay\",\"Romania\",\"Estonia\",\"Jamaica\",\"Croatia\",\"Hong Kong\",\"Somalia\",\"Kosovo\",\"Turkey\",\"Indonesia\",\"Jordan\",\"Azerbaijan\",\"Philippines\",\"China\",\"Bhutan\",\"Kyrgyzstan\",\"Serbia\",\"Bosnia and Herzegovina\",\"Montenegro\",\"Dominican Republic\",\"Morocco\",\"Hungary\",\"Pakistan\",\"Lebanon\",\"Portugal\",\"Macedonia\",\"Vietnam\",\"Somaliland Region\",\"Tunisia\",\"Greece\",\"Tajikistan\",\"Mongolia\",\"Laos\",\"Nigeria\",\"Honduras\",\"Iran\",\"Zambia\",\"Nepal\",\"Palestinian Territories\",\"Albania\",\"Bangladesh\",\"Sierra Leone\",\"Iraq\",\"Namibia\",\"Cameroon\",\"Ethiopia\",\"South Africa\",\"Sri Lanka\",\"India\",\"Myanmar\",\"Egypt\",\"Armenia\",\"Kenya\",\"Ukraine\",\"Ghana\",\"Congo (Kinshasa)\",\"Georgia\",\"Congo (Brazzaville)\",\"Senegal\",\"Bulgaria\",\"Mauritania\",\"Zimbabwe\",\"Malawi\",\"Sudan\",\"Gabon\",\"Mali\",\"Haiti\",\"Botswana\",\"Comoros\",\"Ivory Coast\",\"Cambodia\",\"Angola\",\"Niger\",\"South Sudan\",\"Chad\",\"Burkina Faso\",\"Uganda\",\"Yemen\",\"Madagascar\",\"Tanzania\",\"Liberia\",\"Guinea\",\"Rwanda\",\"Benin\",\"Afghanistan\",\"Togo\",\"Syria\",\"Burundi\",\"Denmark\",\"Switzerland\",\"Iceland\",\"Norway\",\"Finland\",\"Canada\",\"Netherlands\",\"New Zealand\",\"Australia\",\"Sweden\",\"Israel\",\"Austria\",\"United States\",\"Costa Rica\",\"Puerto Rico\",\"Germany\",\"Brazil\",\"Belgium\",\"Ireland\",\"Luxembourg\",\"Mexico\",\"Singapore\",\"United Kingdom\",\"Chile\",\"Panama\",\"Argentina\",\"Czech Republic\",\"United Arab Emirates\",\"Uruguay\",\"Malta\",\"Colombia\",\"France\",\"Thailand\",\"Saudi Arabia\",\"Taiwan\",\"Qatar\",\"Spain\",\"Algeria\",\"Guatemala\",\"Suriname\",\"Kuwait\",\"Bahrain\",\"Trinidad and Tobago\",\"Venezuela\",\"Slovakia\",\"El Salvador\",\"Malaysia\",\"Nicaragua\",\"Uzbekistan\",\"Italy\",\"Ecuador\",\"Belize\",\"Japan\",\"Kazakhstan\",\"Moldova\",\"Russia\",\"Poland\",\"South Korea\",\"Bolivia\",\"Lithuania\",\"Belarus\",\"North Cyprus\",\"Slovenia\",\"Peru\",\"Turkmenistan\",\"Mauritius\",\"Libya\",\"Latvia\",\"Cyprus\",\"Paraguay\",\"Romania\",\"Estonia\",\"Jamaica\",\"Croatia\",\"Hong Kong\",\"Somalia\",\"Kosovo\",\"Turkey\",\"Indonesia\",\"Jordan\",\"Azerbaijan\",\"Philippines\",\"China\",\"Bhutan\",\"Kyrgyzstan\",\"Serbia\",\"Bosnia and Herzegovina\",\"Montenegro\",\"Dominican Republic\",\"Morocco\",\"Hungary\",\"Pakistan\",\"Lebanon\",\"Portugal\",\"Macedonia\",\"Vietnam\",\"Somaliland Region\",\"Tunisia\",\"Greece\",\"Tajikistan\",\"Mongolia\",\"Laos\",\"Nigeria\",\"Honduras\",\"Iran\",\"Zambia\",\"Nepal\",\"Palestinian Territories\",\"Albania\",\"Bangladesh\",\"Sierra Leone\",\"Iraq\",\"Namibia\",\"Cameroon\",\"Ethiopia\",\"South Africa\",\"Sri Lanka\",\"India\",\"Myanmar\",\"Egypt\",\"Armenia\",\"Kenya\",\"Ukraine\",\"Ghana\",\"Congo (Kinshasa)\",\"Georgia\",\"Congo (Brazzaville)\",\"Senegal\",\"Bulgaria\",\"Mauritania\",\"Zimbabwe\",\"Malawi\",\"Sudan\",\"Gabon\",\"Mali\",\"Haiti\",\"Botswana\",\"Comoros\",\"Ivory Coast\",\"Cambodia\",\"Angola\",\"Niger\",\"South Sudan\",\"Chad\",\"Burkina Faso\",\"Uganda\",\"Yemen\",\"Madagascar\",\"Tanzania\",\"Liberia\",\"Guinea\",\"Rwanda\",\"Benin\",\"Afghanistan\",\"Togo\",\"Syria\",\"Burundi\"],\"text\":[\"Switzerland\",\"Iceland\",\"Denmark\",\"Norway\",\"Canada\",\"Finland\",\"Netherlands\",\"Sweden\",\"New Zealand\",\"Australia\",\"Israel\",\"Costa Rica\",\"Austria\",\"Mexico\",\"United States\",\"Brazil\",\"Luxembourg\",\"Ireland\",\"Belgium\",\"United Arab Emirates\",\"United Kingdom\",\"Oman\",\"Venezuela\",\"Singapore\",\"Panama\",\"Germany\",\"Chile\",\"Qatar\",\"France\",\"Argentina\",\"Czech Republic\",\"Uruguay\",\"Colombia\",\"Thailand\",\"Saudi Arabia\",\"Spain\",\"Malta\",\"Taiwan\",\"Kuwait\",\"Suriname\",\"Trinidad and Tobago\",\"El Salvador\",\"Guatemala\",\"Uzbekistan\",\"Slovakia\",\"Japan\",\"South Korea\",\"Ecuador\",\"Bahrain\",\"Italy\",\"Bolivia\",\"Moldova\",\"Paraguay\",\"Kazakhstan\",\"Slovenia\",\"Lithuania\",\"Nicaragua\",\"Peru\",\"Belarus\",\"Poland\",\"Malaysia\",\"Croatia\",\"Libya\",\"Russia\",\"Jamaica\",\"North Cyprus\",\"Cyprus\",\"Algeria\",\"Kosovo\",\"Turkmenistan\",\"Mauritius\",\"Hong Kong\",\"Estonia\",\"Indonesia\",\"Vietnam\",\"Turkey\",\"Kyrgyzstan\",\"Nigeria\",\"Bhutan\",\"Azerbaijan\",\"Pakistan\",\"Jordan\",\"Montenegro\",\"China\",\"Zambia\",\"Romania\",\"Serbia\",\"Portugal\",\"Latvia\",\"Philippines\",\"Somaliland region\",\"Morocco\",\"Macedonia\",\"Mozambique\",\"Albania\",\"Bosnia and Herzegovina\",\"Lesotho\",\"Dominican Republic\",\"Laos\",\"Mongolia\",\"Swaziland\",\"Greece\",\"Lebanon\",\"Hungary\",\"Honduras\",\"Tajikistan\",\"Tunisia\",\"Palestinian Territories\",\"Bangladesh\",\"Iran\",\"Ukraine\",\"Iraq\",\"South Africa\",\"Ghana\",\"Zimbabwe\",\"Liberia\",\"India\",\"Sudan\",\"Haiti\",\"Congo (Kinshasa)\",\"Nepal\",\"Ethiopia\",\"Sierra Leone\",\"Mauritania\",\"Kenya\",\"Djibouti\",\"Armenia\",\"Botswana\",\"Myanmar\",\"Georgia\",\"Malawi\",\"Sri Lanka\",\"Cameroon\",\"Bulgaria\",\"Egypt\",\"Yemen\",\"Angola\",\"Mali\",\"Congo (Brazzaville)\",\"Comoros\",\"Uganda\",\"Senegal\",\"Gabon\",\"Niger\",\"Cambodia\",\"Tanzania\",\"Madagascar\",\"Central African Republic\",\"Chad\",\"Guinea\",\"Ivory Coast\",\"Burkina Faso\",\"Afghanistan\",\"Rwanda\",\"Benin\",\"Syria\",\"Burundi\",\"Togo\",\"Denmark\",\"Switzerland\",\"Iceland\",\"Norway\",\"Finland\",\"Canada\",\"Netherlands\",\"New Zealand\",\"Australia\",\"Sweden\",\"Israel\",\"Austria\",\"United States\",\"Costa Rica\",\"Puerto Rico\",\"Germany\",\"Brazil\",\"Belgium\",\"Ireland\",\"Luxembourg\",\"Mexico\",\"Singapore\",\"United Kingdom\",\"Chile\",\"Panama\",\"Argentina\",\"Czech Republic\",\"United Arab Emirates\",\"Uruguay\",\"Malta\",\"Colombia\",\"France\",\"Thailand\",\"Saudi Arabia\",\"Taiwan\",\"Qatar\",\"Spain\",\"Algeria\",\"Guatemala\",\"Suriname\",\"Kuwait\",\"Bahrain\",\"Trinidad and Tobago\",\"Venezuela\",\"Slovakia\",\"El Salvador\",\"Malaysia\",\"Nicaragua\",\"Uzbekistan\",\"Italy\",\"Ecuador\",\"Belize\",\"Japan\",\"Kazakhstan\",\"Moldova\",\"Russia\",\"Poland\",\"South Korea\",\"Bolivia\",\"Lithuania\",\"Belarus\",\"North Cyprus\",\"Slovenia\",\"Peru\",\"Turkmenistan\",\"Mauritius\",\"Libya\",\"Latvia\",\"Cyprus\",\"Paraguay\",\"Romania\",\"Estonia\",\"Jamaica\",\"Croatia\",\"Hong Kong\",\"Somalia\",\"Kosovo\",\"Turkey\",\"Indonesia\",\"Jordan\",\"Azerbaijan\",\"Philippines\",\"China\",\"Bhutan\",\"Kyrgyzstan\",\"Serbia\",\"Bosnia and Herzegovina\",\"Montenegro\",\"Dominican Republic\",\"Morocco\",\"Hungary\",\"Pakistan\",\"Lebanon\",\"Portugal\",\"Macedonia\",\"Vietnam\",\"Somaliland Region\",\"Tunisia\",\"Greece\",\"Tajikistan\",\"Mongolia\",\"Laos\",\"Nigeria\",\"Honduras\",\"Iran\",\"Zambia\",\"Nepal\",\"Palestinian Territories\",\"Albania\",\"Bangladesh\",\"Sierra Leone\",\"Iraq\",\"Namibia\",\"Cameroon\",\"Ethiopia\",\"South Africa\",\"Sri Lanka\",\"India\",\"Myanmar\",\"Egypt\",\"Armenia\",\"Kenya\",\"Ukraine\",\"Ghana\",\"Congo (Kinshasa)\",\"Georgia\",\"Congo (Brazzaville)\",\"Senegal\",\"Bulgaria\",\"Mauritania\",\"Zimbabwe\",\"Malawi\",\"Sudan\",\"Gabon\",\"Mali\",\"Haiti\",\"Botswana\",\"Comoros\",\"Ivory Coast\",\"Cambodia\",\"Angola\",\"Niger\",\"South Sudan\",\"Chad\",\"Burkina Faso\",\"Uganda\",\"Yemen\",\"Madagascar\",\"Tanzania\",\"Liberia\",\"Guinea\",\"Rwanda\",\"Benin\",\"Afghanistan\",\"Togo\",\"Syria\",\"Burundi\",\"Denmark\",\"Switzerland\",\"Iceland\",\"Norway\",\"Finland\",\"Canada\",\"Netherlands\",\"New Zealand\",\"Australia\",\"Sweden\",\"Israel\",\"Austria\",\"United States\",\"Costa Rica\",\"Puerto Rico\",\"Germany\",\"Brazil\",\"Belgium\",\"Ireland\",\"Luxembourg\",\"Mexico\",\"Singapore\",\"United Kingdom\",\"Chile\",\"Panama\",\"Argentina\",\"Czech Republic\",\"United Arab Emirates\",\"Uruguay\",\"Malta\",\"Colombia\",\"France\",\"Thailand\",\"Saudi Arabia\",\"Taiwan\",\"Qatar\",\"Spain\",\"Algeria\",\"Guatemala\",\"Suriname\",\"Kuwait\",\"Bahrain\",\"Trinidad and Tobago\",\"Venezuela\",\"Slovakia\",\"El Salvador\",\"Malaysia\",\"Nicaragua\",\"Uzbekistan\",\"Italy\",\"Ecuador\",\"Belize\",\"Japan\",\"Kazakhstan\",\"Moldova\",\"Russia\",\"Poland\",\"South Korea\",\"Bolivia\",\"Lithuania\",\"Belarus\",\"North Cyprus\",\"Slovenia\",\"Peru\",\"Turkmenistan\",\"Mauritius\",\"Libya\",\"Latvia\",\"Cyprus\",\"Paraguay\",\"Romania\",\"Estonia\",\"Jamaica\",\"Croatia\",\"Hong Kong\",\"Somalia\",\"Kosovo\",\"Turkey\",\"Indonesia\",\"Jordan\",\"Azerbaijan\",\"Philippines\",\"China\",\"Bhutan\",\"Kyrgyzstan\",\"Serbia\",\"Bosnia and Herzegovina\",\"Montenegro\",\"Dominican Republic\",\"Morocco\",\"Hungary\",\"Pakistan\",\"Lebanon\",\"Portugal\",\"Macedonia\",\"Vietnam\",\"Somaliland Region\",\"Tunisia\",\"Greece\",\"Tajikistan\",\"Mongolia\",\"Laos\",\"Nigeria\",\"Honduras\",\"Iran\",\"Zambia\",\"Nepal\",\"Palestinian Territories\",\"Albania\",\"Bangladesh\",\"Sierra Leone\",\"Iraq\",\"Namibia\",\"Cameroon\",\"Ethiopia\",\"South Africa\",\"Sri Lanka\",\"India\",\"Myanmar\",\"Egypt\",\"Armenia\",\"Kenya\",\"Ukraine\",\"Ghana\",\"Congo (Kinshasa)\",\"Georgia\",\"Congo (Brazzaville)\",\"Senegal\",\"Bulgaria\",\"Mauritania\",\"Zimbabwe\",\"Malawi\",\"Sudan\",\"Gabon\",\"Mali\",\"Haiti\",\"Botswana\",\"Comoros\",\"Ivory Coast\",\"Cambodia\",\"Angola\",\"Niger\",\"South Sudan\",\"Chad\",\"Burkina Faso\",\"Uganda\",\"Yemen\",\"Madagascar\",\"Tanzania\",\"Liberia\",\"Guinea\",\"Rwanda\",\"Benin\",\"Afghanistan\",\"Togo\",\"Syria\",\"Burundi\"],\"z\":[1,2,3,4,5,6,7,8,9,10,11,12,13,14,15,16,17,18,19,20,21,22,23,24,25,26,27,28,29,30,31,32,33,34,35,36,37,38,39,40,41,42,43,44,45,46,47,48,49,50,51,52,53,54,55,56,57,58,59,60,61,62,63,64,65,66,67,68,69,70,71,72,73,74,75,76,77,78,79,80,81,82,82,84,85,86,87,88,89,90,91,92,93,94,95,96,97,98,99,100,101,102,103,104,105,106,107,108,109,110,111,112,113,114,115,116,117,118,119,120,121,122,123,124,125,126,127,128,129,130,131,132,133,134,135,136,137,138,139,140,141,142,143,144,145,146,147,148,149,150,151,152,153,154,155,156,157,158,1,2,3,4,5,6,7,8,9,10,11,12,13,14,15,16,17,18,19,20,21,22,23,24,25,26,27,28,29,30,31,32,33,34,34,36,37,38,39,40,41,42,43,44,45,46,47,48,49,50,51,52,53,54,55,56,57,57,59,60,61,62,63,64,65,66,67,68,69,70,71,72,73,74,75,76,77,78,79,80,81,82,83,84,85,86,87,88,89,90,91,92,93,94,95,96,97,98,99,100,101,102,103,104,105,106,107,108,109,110,111,112,113,114,115,116,117,118,119,120,121,122,123,124,125,126,127,128,129,130,131,132,133,134,135,136,137,138,139,140,141,142,143,144,145,145,147,148,149,150,151,152,153,154,155,156,157,1,2,3,4,5,6,7,8,9,10,11,12,13,14,15,16,17,18,19,20,21,22,23,24,25,26,27,28,29,30,31,32,33,34,34,36,37,38,39,40,41,42,43,44,45,46,47,48,49,50,51,52,53,54,55,56,57,57,59,60,61,62,63,64,65,66,67,68,69,70,71,72,73,74,75,76,77,78,79,80,81,82,83,84,85,86,87,88,89,90,91,92,93,94,95,96,97,98,99,100,101,102,103,104,105,106,107,108,109,110,111,112,113,114,115,116,117,118,119,120,121,122,123,124,125,126,127,128,129,130,131,132,133,134,135,136,137,138,139,140,141,142,143,144,145,145,147,148,149,150,151,152,153,154,155,156,157],\"type\":\"choropleth\"}],                        {\"template\":{\"data\":{\"barpolar\":[{\"marker\":{\"line\":{\"color\":\"#E5ECF6\",\"width\":0.5},\"pattern\":{\"fillmode\":\"overlay\",\"size\":10,\"solidity\":0.2}},\"type\":\"barpolar\"}],\"bar\":[{\"error_x\":{\"color\":\"#2a3f5f\"},\"error_y\":{\"color\":\"#2a3f5f\"},\"marker\":{\"line\":{\"color\":\"#E5ECF6\",\"width\":0.5},\"pattern\":{\"fillmode\":\"overlay\",\"size\":10,\"solidity\":0.2}},\"type\":\"bar\"}],\"carpet\":[{\"aaxis\":{\"endlinecolor\":\"#2a3f5f\",\"gridcolor\":\"white\",\"linecolor\":\"white\",\"minorgridcolor\":\"white\",\"startlinecolor\":\"#2a3f5f\"},\"baxis\":{\"endlinecolor\":\"#2a3f5f\",\"gridcolor\":\"white\",\"linecolor\":\"white\",\"minorgridcolor\":\"white\",\"startlinecolor\":\"#2a3f5f\"},\"type\":\"carpet\"}],\"choropleth\":[{\"colorbar\":{\"outlinewidth\":0,\"ticks\":\"\"},\"type\":\"choropleth\"}],\"contourcarpet\":[{\"colorbar\":{\"outlinewidth\":0,\"ticks\":\"\"},\"type\":\"contourcarpet\"}],\"contour\":[{\"colorbar\":{\"outlinewidth\":0,\"ticks\":\"\"},\"colorscale\":[[0.0,\"#0d0887\"],[0.1111111111111111,\"#46039f\"],[0.2222222222222222,\"#7201a8\"],[0.3333333333333333,\"#9c179e\"],[0.4444444444444444,\"#bd3786\"],[0.5555555555555556,\"#d8576b\"],[0.6666666666666666,\"#ed7953\"],[0.7777777777777778,\"#fb9f3a\"],[0.8888888888888888,\"#fdca26\"],[1.0,\"#f0f921\"]],\"type\":\"contour\"}],\"heatmapgl\":[{\"colorbar\":{\"outlinewidth\":0,\"ticks\":\"\"},\"colorscale\":[[0.0,\"#0d0887\"],[0.1111111111111111,\"#46039f\"],[0.2222222222222222,\"#7201a8\"],[0.3333333333333333,\"#9c179e\"],[0.4444444444444444,\"#bd3786\"],[0.5555555555555556,\"#d8576b\"],[0.6666666666666666,\"#ed7953\"],[0.7777777777777778,\"#fb9f3a\"],[0.8888888888888888,\"#fdca26\"],[1.0,\"#f0f921\"]],\"type\":\"heatmapgl\"}],\"heatmap\":[{\"colorbar\":{\"outlinewidth\":0,\"ticks\":\"\"},\"colorscale\":[[0.0,\"#0d0887\"],[0.1111111111111111,\"#46039f\"],[0.2222222222222222,\"#7201a8\"],[0.3333333333333333,\"#9c179e\"],[0.4444444444444444,\"#bd3786\"],[0.5555555555555556,\"#d8576b\"],[0.6666666666666666,\"#ed7953\"],[0.7777777777777778,\"#fb9f3a\"],[0.8888888888888888,\"#fdca26\"],[1.0,\"#f0f921\"]],\"type\":\"heatmap\"}],\"histogram2dcontour\":[{\"colorbar\":{\"outlinewidth\":0,\"ticks\":\"\"},\"colorscale\":[[0.0,\"#0d0887\"],[0.1111111111111111,\"#46039f\"],[0.2222222222222222,\"#7201a8\"],[0.3333333333333333,\"#9c179e\"],[0.4444444444444444,\"#bd3786\"],[0.5555555555555556,\"#d8576b\"],[0.6666666666666666,\"#ed7953\"],[0.7777777777777778,\"#fb9f3a\"],[0.8888888888888888,\"#fdca26\"],[1.0,\"#f0f921\"]],\"type\":\"histogram2dcontour\"}],\"histogram2d\":[{\"colorbar\":{\"outlinewidth\":0,\"ticks\":\"\"},\"colorscale\":[[0.0,\"#0d0887\"],[0.1111111111111111,\"#46039f\"],[0.2222222222222222,\"#7201a8\"],[0.3333333333333333,\"#9c179e\"],[0.4444444444444444,\"#bd3786\"],[0.5555555555555556,\"#d8576b\"],[0.6666666666666666,\"#ed7953\"],[0.7777777777777778,\"#fb9f3a\"],[0.8888888888888888,\"#fdca26\"],[1.0,\"#f0f921\"]],\"type\":\"histogram2d\"}],\"histogram\":[{\"marker\":{\"pattern\":{\"fillmode\":\"overlay\",\"size\":10,\"solidity\":0.2}},\"type\":\"histogram\"}],\"mesh3d\":[{\"colorbar\":{\"outlinewidth\":0,\"ticks\":\"\"},\"type\":\"mesh3d\"}],\"parcoords\":[{\"line\":{\"colorbar\":{\"outlinewidth\":0,\"ticks\":\"\"}},\"type\":\"parcoords\"}],\"pie\":[{\"automargin\":true,\"type\":\"pie\"}],\"scatter3d\":[{\"line\":{\"colorbar\":{\"outlinewidth\":0,\"ticks\":\"\"}},\"marker\":{\"colorbar\":{\"outlinewidth\":0,\"ticks\":\"\"}},\"type\":\"scatter3d\"}],\"scattercarpet\":[{\"marker\":{\"colorbar\":{\"outlinewidth\":0,\"ticks\":\"\"}},\"type\":\"scattercarpet\"}],\"scattergeo\":[{\"marker\":{\"colorbar\":{\"outlinewidth\":0,\"ticks\":\"\"}},\"type\":\"scattergeo\"}],\"scattergl\":[{\"marker\":{\"colorbar\":{\"outlinewidth\":0,\"ticks\":\"\"}},\"type\":\"scattergl\"}],\"scattermapbox\":[{\"marker\":{\"colorbar\":{\"outlinewidth\":0,\"ticks\":\"\"}},\"type\":\"scattermapbox\"}],\"scatterpolargl\":[{\"marker\":{\"colorbar\":{\"outlinewidth\":0,\"ticks\":\"\"}},\"type\":\"scatterpolargl\"}],\"scatterpolar\":[{\"marker\":{\"colorbar\":{\"outlinewidth\":0,\"ticks\":\"\"}},\"type\":\"scatterpolar\"}],\"scatter\":[{\"marker\":{\"colorbar\":{\"outlinewidth\":0,\"ticks\":\"\"}},\"type\":\"scatter\"}],\"scatterternary\":[{\"marker\":{\"colorbar\":{\"outlinewidth\":0,\"ticks\":\"\"}},\"type\":\"scatterternary\"}],\"surface\":[{\"colorbar\":{\"outlinewidth\":0,\"ticks\":\"\"},\"colorscale\":[[0.0,\"#0d0887\"],[0.1111111111111111,\"#46039f\"],[0.2222222222222222,\"#7201a8\"],[0.3333333333333333,\"#9c179e\"],[0.4444444444444444,\"#bd3786\"],[0.5555555555555556,\"#d8576b\"],[0.6666666666666666,\"#ed7953\"],[0.7777777777777778,\"#fb9f3a\"],[0.8888888888888888,\"#fdca26\"],[1.0,\"#f0f921\"]],\"type\":\"surface\"}],\"table\":[{\"cells\":{\"fill\":{\"color\":\"#EBF0F8\"},\"line\":{\"color\":\"white\"}},\"header\":{\"fill\":{\"color\":\"#C8D4E3\"},\"line\":{\"color\":\"white\"}},\"type\":\"table\"}]},\"layout\":{\"annotationdefaults\":{\"arrowcolor\":\"#2a3f5f\",\"arrowhead\":0,\"arrowwidth\":1},\"autotypenumbers\":\"strict\",\"coloraxis\":{\"colorbar\":{\"outlinewidth\":0,\"ticks\":\"\"}},\"colorscale\":{\"diverging\":[[0,\"#8e0152\"],[0.1,\"#c51b7d\"],[0.2,\"#de77ae\"],[0.3,\"#f1b6da\"],[0.4,\"#fde0ef\"],[0.5,\"#f7f7f7\"],[0.6,\"#e6f5d0\"],[0.7,\"#b8e186\"],[0.8,\"#7fbc41\"],[0.9,\"#4d9221\"],[1,\"#276419\"]],\"sequential\":[[0.0,\"#0d0887\"],[0.1111111111111111,\"#46039f\"],[0.2222222222222222,\"#7201a8\"],[0.3333333333333333,\"#9c179e\"],[0.4444444444444444,\"#bd3786\"],[0.5555555555555556,\"#d8576b\"],[0.6666666666666666,\"#ed7953\"],[0.7777777777777778,\"#fb9f3a\"],[0.8888888888888888,\"#fdca26\"],[1.0,\"#f0f921\"]],\"sequentialminus\":[[0.0,\"#0d0887\"],[0.1111111111111111,\"#46039f\"],[0.2222222222222222,\"#7201a8\"],[0.3333333333333333,\"#9c179e\"],[0.4444444444444444,\"#bd3786\"],[0.5555555555555556,\"#d8576b\"],[0.6666666666666666,\"#ed7953\"],[0.7777777777777778,\"#fb9f3a\"],[0.8888888888888888,\"#fdca26\"],[1.0,\"#f0f921\"]]},\"colorway\":[\"#636efa\",\"#EF553B\",\"#00cc96\",\"#ab63fa\",\"#FFA15A\",\"#19d3f3\",\"#FF6692\",\"#B6E880\",\"#FF97FF\",\"#FECB52\"],\"font\":{\"color\":\"#2a3f5f\"},\"geo\":{\"bgcolor\":\"white\",\"lakecolor\":\"white\",\"landcolor\":\"#E5ECF6\",\"showlakes\":true,\"showland\":true,\"subunitcolor\":\"white\"},\"hoverlabel\":{\"align\":\"left\"},\"hovermode\":\"closest\",\"mapbox\":{\"style\":\"light\"},\"paper_bgcolor\":\"white\",\"plot_bgcolor\":\"#E5ECF6\",\"polar\":{\"angularaxis\":{\"gridcolor\":\"white\",\"linecolor\":\"white\",\"ticks\":\"\"},\"bgcolor\":\"#E5ECF6\",\"radialaxis\":{\"gridcolor\":\"white\",\"linecolor\":\"white\",\"ticks\":\"\"}},\"scene\":{\"xaxis\":{\"backgroundcolor\":\"#E5ECF6\",\"gridcolor\":\"white\",\"gridwidth\":2,\"linecolor\":\"white\",\"showbackground\":true,\"ticks\":\"\",\"zerolinecolor\":\"white\"},\"yaxis\":{\"backgroundcolor\":\"#E5ECF6\",\"gridcolor\":\"white\",\"gridwidth\":2,\"linecolor\":\"white\",\"showbackground\":true,\"ticks\":\"\",\"zerolinecolor\":\"white\"},\"zaxis\":{\"backgroundcolor\":\"#E5ECF6\",\"gridcolor\":\"white\",\"gridwidth\":2,\"linecolor\":\"white\",\"showbackground\":true,\"ticks\":\"\",\"zerolinecolor\":\"white\"}},\"shapedefaults\":{\"line\":{\"color\":\"#2a3f5f\"}},\"ternary\":{\"aaxis\":{\"gridcolor\":\"white\",\"linecolor\":\"white\",\"ticks\":\"\"},\"baxis\":{\"gridcolor\":\"white\",\"linecolor\":\"white\",\"ticks\":\"\"},\"bgcolor\":\"#E5ECF6\",\"caxis\":{\"gridcolor\":\"white\",\"linecolor\":\"white\",\"ticks\":\"\"}},\"title\":{\"x\":0.05},\"xaxis\":{\"automargin\":true,\"gridcolor\":\"white\",\"linecolor\":\"white\",\"ticks\":\"\",\"title\":{\"standoff\":15},\"zerolinecolor\":\"white\",\"zerolinewidth\":2},\"yaxis\":{\"automargin\":true,\"gridcolor\":\"white\",\"linecolor\":\"white\",\"ticks\":\"\",\"title\":{\"standoff\":15},\"zerolinecolor\":\"white\",\"zerolinewidth\":2}}},\"title\":{\"text\":\"Happiness Rank Across the world\"}},                        {\"responsive\": true}                    ).then(function(){\n",
       "                            \n",
       "var gd = document.getElementById('b4f31d80-0e60-4b52-af97-6cd59d567ae5');\n",
       "var x = new MutationObserver(function (mutations, observer) {{\n",
       "        var display = window.getComputedStyle(gd).display;\n",
       "        if (!display || display === 'none') {{\n",
       "            console.log([gd, 'removed!']);\n",
       "            Plotly.purge(gd);\n",
       "            observer.disconnect();\n",
       "        }}\n",
       "}});\n",
       "\n",
       "// Listen for the removal of the full notebook cells\n",
       "var notebookContainer = gd.closest('#notebook-container');\n",
       "if (notebookContainer) {{\n",
       "    x.observe(notebookContainer, {childList: true});\n",
       "}}\n",
       "\n",
       "// Listen for the clearing of the current output cell\n",
       "var outputEl = gd.closest('.output');\n",
       "if (outputEl) {{\n",
       "    x.observe(outputEl, {childList: true});\n",
       "}}\n",
       "\n",
       "                        })                };                });            </script>        </div>"
      ]
     },
     "metadata": {},
     "output_type": "display_data"
    }
   ],
   "source": [
    "data = dict(\n",
    "    type = 'choropleth',\n",
    "    locations = happiness['Country'],\n",
    "    locationmode = 'country names',\n",
    "    z = happiness['Happiness_Rank'],\n",
    "    text = happiness['Country'],\n",
    "    colorscale = 'Viridis')\n",
    "\n",
    "layout = dict(title = 'Happiness Rank Across the world')\n",
    "fig = go.Figure(data = [data], layout = layout)\n",
    "iplot(fig)"
   ]
  },
  {
   "cell_type": "markdown",
   "id": "219f0cc6",
   "metadata": {},
   "source": [
    "### Building the Model"
   ]
  },
  {
   "cell_type": "code",
   "execution_count": 155,
   "id": "4399ac77",
   "metadata": {},
   "outputs": [
    {
     "data": {
      "text/html": [
       "<div>\n",
       "<style scoped>\n",
       "    .dataframe tbody tr th:only-of-type {\n",
       "        vertical-align: middle;\n",
       "    }\n",
       "\n",
       "    .dataframe tbody tr th {\n",
       "        vertical-align: top;\n",
       "    }\n",
       "\n",
       "    .dataframe thead th {\n",
       "        text-align: right;\n",
       "    }\n",
       "</style>\n",
       "<table border=\"1\" class=\"dataframe\">\n",
       "  <thead>\n",
       "    <tr style=\"text-align: right;\">\n",
       "      <th></th>\n",
       "      <th>Economy</th>\n",
       "      <th>Family</th>\n",
       "      <th>Health</th>\n",
       "    </tr>\n",
       "  </thead>\n",
       "  <tbody>\n",
       "    <tr>\n",
       "      <th>0</th>\n",
       "      <td>1.39651</td>\n",
       "      <td>1.34951</td>\n",
       "      <td>0.94143</td>\n",
       "    </tr>\n",
       "    <tr>\n",
       "      <th>1</th>\n",
       "      <td>1.30232</td>\n",
       "      <td>1.40223</td>\n",
       "      <td>0.94784</td>\n",
       "    </tr>\n",
       "    <tr>\n",
       "      <th>2</th>\n",
       "      <td>1.32548</td>\n",
       "      <td>1.36058</td>\n",
       "      <td>0.87464</td>\n",
       "    </tr>\n",
       "    <tr>\n",
       "      <th>3</th>\n",
       "      <td>1.45900</td>\n",
       "      <td>1.33095</td>\n",
       "      <td>0.88521</td>\n",
       "    </tr>\n",
       "    <tr>\n",
       "      <th>4</th>\n",
       "      <td>1.32629</td>\n",
       "      <td>1.32261</td>\n",
       "      <td>0.90563</td>\n",
       "    </tr>\n",
       "  </tbody>\n",
       "</table>\n",
       "</div>"
      ],
      "text/plain": [
       "   Economy   Family   Health\n",
       "0  1.39651  1.34951  0.94143\n",
       "1  1.30232  1.40223  0.94784\n",
       "2  1.32548  1.36058  0.87464\n",
       "3  1.45900  1.33095  0.88521\n",
       "4  1.32629  1.32261  0.90563"
      ]
     },
     "execution_count": 155,
     "metadata": {},
     "output_type": "execute_result"
    }
   ],
   "source": [
    "X = min_happiness.drop(['Happiness_Score'], axis=1) # to keep only independent variables\n",
    "y = min_happiness['Happiness_Score'] # dependent variable\n",
    "\n",
    "X.head()"
   ]
  },
  {
   "cell_type": "code",
   "execution_count": 156,
   "id": "f8ffecb2",
   "metadata": {},
   "outputs": [],
   "source": [
    "from sklearn.model_selection import train_test_split\n",
    "X_train, X_test, y_train, y_test = train_test_split(X, y, test_size=0.20)"
   ]
  },
  {
   "cell_type": "code",
   "execution_count": 158,
   "id": "29b73c9b",
   "metadata": {},
   "outputs": [
    {
     "data": {
      "text/plain": [
       "LinearRegression()"
      ]
     },
     "execution_count": 158,
     "metadata": {},
     "output_type": "execute_result"
    }
   ],
   "source": [
    "from sklearn.linear_model import LinearRegression\n",
    "lm = LinearRegression()\n",
    "lm.fit(X_train, y_train)"
   ]
  },
  {
   "cell_type": "markdown",
   "id": "da86a30a",
   "metadata": {},
   "source": [
    "### Evaluate the predicted values and calculate the differences"
   ]
  },
  {
   "cell_type": "code",
   "execution_count": 161,
   "id": "5c85645d",
   "metadata": {},
   "outputs": [],
   "source": [
    "y_pred = lm.predict(X_test)"
   ]
  },
  {
   "cell_type": "raw",
   "id": "242f2e95",
   "metadata": {},
   "source": []
  }
 ],
 "metadata": {
  "kernelspec": {
   "display_name": "Python 3 (ipykernel)",
   "language": "python",
   "name": "python3"
  },
  "language_info": {
   "codemirror_mode": {
    "name": "ipython",
    "version": 3
   },
   "file_extension": ".py",
   "mimetype": "text/x-python",
   "name": "python",
   "nbconvert_exporter": "python",
   "pygments_lexer": "ipython3",
   "version": "3.9.12"
  }
 },
 "nbformat": 4,
 "nbformat_minor": 5
}
