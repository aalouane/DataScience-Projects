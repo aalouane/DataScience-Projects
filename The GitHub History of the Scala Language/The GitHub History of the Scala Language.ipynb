{
 "cells": [
  {
   "cell_type": "markdown",
   "id": "7a13b637",
   "metadata": {},
   "source": [
    "### 1. Scala's real-world project repository data\n",
    "\n",
    "With almost 30k commits and a history spanning over ten years, Scala is a mature programming language. It is a general-purpose programming language that has recently become another prominent language for data scientists.\n",
    "\n",
    "Scala is also an open source project. Open source projects have the advantage that their entire development histories -- who made changes, what was changed, code reviews, etc. -- are publicly available.\n",
    "\n",
    "We're going to read in, clean up, and visualize the real world project repository of Scala that spans data from a version control system (Git) as well as a project hosting site (GitHub). We will find out who has had the most influence on its development and who are the experts.\n",
    "\n",
    "The dataset we will use, which has been previously mined and extracted from GitHub, is comprised of three files:\n",
    "\n",
    "    1. pulls_2011-2013.csv contains the basic information about the pull requests, and spans from the end of 2011 up to (but not including) 2014.\n",
    "    2. pulls_2014-2018.csv contains identical information, and spans from 2014 up to 2018.\n",
    "    3. pull_files.csv contains the files that were modified by each pull request.\n"
   ]
  },
  {
   "cell_type": "code",
   "execution_count": 6,
   "id": "fe4c8078",
   "metadata": {},
   "outputs": [],
   "source": [
    "# Importing pandas\n",
    "import pandas as pd\n",
    "\n",
    "# Loading in the data\n",
    "pulls_one = pd.read_csv(\"pulls_2011-2013.csv\")\n",
    "pulls_two = pd.read_csv(\"pulls_2014-2018.csv\")\n",
    "pull_files = pd.read_csv(\"pull_files.csv\") "
   ]
  },
  {
   "cell_type": "code",
   "execution_count": 42,
   "id": "fb8446f0",
   "metadata": {},
   "outputs": [
    {
     "data": {
      "text/html": [
       "<div>\n",
       "<style scoped>\n",
       "    .dataframe tbody tr th:only-of-type {\n",
       "        vertical-align: middle;\n",
       "    }\n",
       "\n",
       "    .dataframe tbody tr th {\n",
       "        vertical-align: top;\n",
       "    }\n",
       "\n",
       "    .dataframe thead th {\n",
       "        text-align: right;\n",
       "    }\n",
       "</style>\n",
       "<table border=\"1\" class=\"dataframe\">\n",
       "  <thead>\n",
       "    <tr style=\"text-align: right;\">\n",
       "      <th></th>\n",
       "      <th>pid</th>\n",
       "      <th>user</th>\n",
       "      <th>date</th>\n",
       "    </tr>\n",
       "  </thead>\n",
       "  <tbody>\n",
       "    <tr>\n",
       "      <th>0</th>\n",
       "      <td>11166973</td>\n",
       "      <td>VladimirNik</td>\n",
       "      <td>2013-12-31T23:10:55Z</td>\n",
       "    </tr>\n",
       "    <tr>\n",
       "      <th>1</th>\n",
       "      <td>11161892</td>\n",
       "      <td>Ichoran</td>\n",
       "      <td>2013-12-31T16:55:47Z</td>\n",
       "    </tr>\n",
       "    <tr>\n",
       "      <th>2</th>\n",
       "      <td>11153894</td>\n",
       "      <td>Ichoran</td>\n",
       "      <td>2013-12-31T02:41:13Z</td>\n",
       "    </tr>\n",
       "    <tr>\n",
       "      <th>3</th>\n",
       "      <td>11151917</td>\n",
       "      <td>rklaehn</td>\n",
       "      <td>2013-12-30T23:45:47Z</td>\n",
       "    </tr>\n",
       "    <tr>\n",
       "      <th>4</th>\n",
       "      <td>11131244</td>\n",
       "      <td>qerub</td>\n",
       "      <td>2013-12-29T17:21:01Z</td>\n",
       "    </tr>\n",
       "  </tbody>\n",
       "</table>\n",
       "</div>"
      ],
      "text/plain": [
       "        pid         user                  date\n",
       "0  11166973  VladimirNik  2013-12-31T23:10:55Z\n",
       "1  11161892      Ichoran  2013-12-31T16:55:47Z\n",
       "2  11153894      Ichoran  2013-12-31T02:41:13Z\n",
       "3  11151917      rklaehn  2013-12-30T23:45:47Z\n",
       "4  11131244        qerub  2013-12-29T17:21:01Z"
      ]
     },
     "execution_count": 42,
     "metadata": {},
     "output_type": "execute_result"
    }
   ],
   "source": [
    "pulls_one.head()"
   ]
  },
  {
   "cell_type": "code",
   "execution_count": 9,
   "id": "6a8c8e20",
   "metadata": {},
   "outputs": [
    {
     "data": {
      "text/html": [
       "<div>\n",
       "<style scoped>\n",
       "    .dataframe tbody tr th:only-of-type {\n",
       "        vertical-align: middle;\n",
       "    }\n",
       "\n",
       "    .dataframe tbody tr th {\n",
       "        vertical-align: top;\n",
       "    }\n",
       "\n",
       "    .dataframe thead th {\n",
       "        text-align: right;\n",
       "    }\n",
       "</style>\n",
       "<table border=\"1\" class=\"dataframe\">\n",
       "  <thead>\n",
       "    <tr style=\"text-align: right;\">\n",
       "      <th></th>\n",
       "      <th>pid</th>\n",
       "      <th>user</th>\n",
       "      <th>date</th>\n",
       "    </tr>\n",
       "  </thead>\n",
       "  <tbody>\n",
       "    <tr>\n",
       "      <th>0</th>\n",
       "      <td>163314316</td>\n",
       "      <td>hrhino</td>\n",
       "      <td>2018-01-16T23:29:16Z</td>\n",
       "    </tr>\n",
       "    <tr>\n",
       "      <th>1</th>\n",
       "      <td>163061502</td>\n",
       "      <td>joroKr21</td>\n",
       "      <td>2018-01-15T23:44:52Z</td>\n",
       "    </tr>\n",
       "    <tr>\n",
       "      <th>2</th>\n",
       "      <td>163057333</td>\n",
       "      <td>mkeskells</td>\n",
       "      <td>2018-01-15T23:05:06Z</td>\n",
       "    </tr>\n",
       "    <tr>\n",
       "      <th>3</th>\n",
       "      <td>162985594</td>\n",
       "      <td>lrytz</td>\n",
       "      <td>2018-01-15T15:52:39Z</td>\n",
       "    </tr>\n",
       "    <tr>\n",
       "      <th>4</th>\n",
       "      <td>162838837</td>\n",
       "      <td>zuvizudar</td>\n",
       "      <td>2018-01-14T19:16:16Z</td>\n",
       "    </tr>\n",
       "  </tbody>\n",
       "</table>\n",
       "</div>"
      ],
      "text/plain": [
       "         pid       user                  date\n",
       "0  163314316     hrhino  2018-01-16T23:29:16Z\n",
       "1  163061502   joroKr21  2018-01-15T23:44:52Z\n",
       "2  163057333  mkeskells  2018-01-15T23:05:06Z\n",
       "3  162985594      lrytz  2018-01-15T15:52:39Z\n",
       "4  162838837  zuvizudar  2018-01-14T19:16:16Z"
      ]
     },
     "execution_count": 9,
     "metadata": {},
     "output_type": "execute_result"
    }
   ],
   "source": [
    "pulls_two.head()"
   ]
  },
  {
   "cell_type": "code",
   "execution_count": 10,
   "id": "c8bebf38",
   "metadata": {},
   "outputs": [
    {
     "data": {
      "text/html": [
       "<div>\n",
       "<style scoped>\n",
       "    .dataframe tbody tr th:only-of-type {\n",
       "        vertical-align: middle;\n",
       "    }\n",
       "\n",
       "    .dataframe tbody tr th {\n",
       "        vertical-align: top;\n",
       "    }\n",
       "\n",
       "    .dataframe thead th {\n",
       "        text-align: right;\n",
       "    }\n",
       "</style>\n",
       "<table border=\"1\" class=\"dataframe\">\n",
       "  <thead>\n",
       "    <tr style=\"text-align: right;\">\n",
       "      <th></th>\n",
       "      <th>pid</th>\n",
       "      <th>file</th>\n",
       "    </tr>\n",
       "  </thead>\n",
       "  <tbody>\n",
       "    <tr>\n",
       "      <th>0</th>\n",
       "      <td>163314316</td>\n",
       "      <td>test/files/pos/t5638/Among.java</td>\n",
       "    </tr>\n",
       "    <tr>\n",
       "      <th>1</th>\n",
       "      <td>163314316</td>\n",
       "      <td>test/files/pos/t5638/Usage.scala</td>\n",
       "    </tr>\n",
       "    <tr>\n",
       "      <th>2</th>\n",
       "      <td>163314316</td>\n",
       "      <td>test/files/pos/t9291.scala</td>\n",
       "    </tr>\n",
       "    <tr>\n",
       "      <th>3</th>\n",
       "      <td>163314316</td>\n",
       "      <td>test/files/run/t8348.check</td>\n",
       "    </tr>\n",
       "    <tr>\n",
       "      <th>4</th>\n",
       "      <td>163314316</td>\n",
       "      <td>test/files/run/t8348/TableColumn.java</td>\n",
       "    </tr>\n",
       "  </tbody>\n",
       "</table>\n",
       "</div>"
      ],
      "text/plain": [
       "         pid                                   file\n",
       "0  163314316        test/files/pos/t5638/Among.java\n",
       "1  163314316       test/files/pos/t5638/Usage.scala\n",
       "2  163314316             test/files/pos/t9291.scala\n",
       "3  163314316             test/files/run/t8348.check\n",
       "4  163314316  test/files/run/t8348/TableColumn.java"
      ]
     },
     "execution_count": 10,
     "metadata": {},
     "output_type": "execute_result"
    }
   ],
   "source": [
    "pull_files.head()"
   ]
  },
  {
   "cell_type": "code",
   "execution_count": 12,
   "id": "3869468e",
   "metadata": {},
   "outputs": [
    {
     "name": "stdout",
     "output_type": "stream",
     "text": [
      "(3296, 3)\n",
      "(2904, 3)\n",
      "(85588, 2)\n"
     ]
    }
   ],
   "source": [
    "print(pulls_one.shape)\n",
    "print(pulls_two.shape)\n",
    "print(pull_files.shape)"
   ]
  },
  {
   "cell_type": "markdown",
   "id": "e23b6374",
   "metadata": {},
   "source": [
    "The append command combines the dataset in memory, known as the master dataset, with a\n",
    "dataset on disk, known as the using dataset. Typically, a user would implement the append\n",
    "command when they would like to add observations to an existing dataset with the same or\n",
    "similar variables."
   ]
  },
  {
   "cell_type": "code",
   "execution_count": 18,
   "id": "b235b2b3",
   "metadata": {},
   "outputs": [],
   "source": [
    "pulls = pd.concat([pulls_one, pulls_two])\n",
    "\n",
    "# Convert the date for the pulls object\n",
    "pulls['date'] = pd.to_datetime(pulls['date'], utc=True)"
   ]
  },
  {
   "cell_type": "code",
   "execution_count": 19,
   "id": "87738750",
   "metadata": {},
   "outputs": [
    {
     "data": {
      "text/plain": [
       "(6200, 3)"
      ]
     },
     "execution_count": 19,
     "metadata": {},
     "output_type": "execute_result"
    }
   ],
   "source": [
    "pulls.shape"
   ]
  },
  {
   "cell_type": "markdown",
   "id": "27763ed8",
   "metadata": {},
   "source": [
    "### Merging the DataFrames"
   ]
  },
  {
   "cell_type": "code",
   "execution_count": 21,
   "id": "83d95665",
   "metadata": {},
   "outputs": [
    {
     "data": {
      "text/plain": [
       "(85588, 4)"
      ]
     },
     "execution_count": 21,
     "metadata": {},
     "output_type": "execute_result"
    }
   ],
   "source": [
    "# Merge pulls and pull_files on the pid column. Assign the result to the data variable.\n",
    "data = pulls.merge(pull_files)\n",
    "data.shape"
   ]
  },
  {
   "cell_type": "code",
   "execution_count": 22,
   "id": "edd9e34e",
   "metadata": {},
   "outputs": [
    {
     "data": {
      "text/html": [
       "<div>\n",
       "<style scoped>\n",
       "    .dataframe tbody tr th:only-of-type {\n",
       "        vertical-align: middle;\n",
       "    }\n",
       "\n",
       "    .dataframe tbody tr th {\n",
       "        vertical-align: top;\n",
       "    }\n",
       "\n",
       "    .dataframe thead th {\n",
       "        text-align: right;\n",
       "    }\n",
       "</style>\n",
       "<table border=\"1\" class=\"dataframe\">\n",
       "  <thead>\n",
       "    <tr style=\"text-align: right;\">\n",
       "      <th></th>\n",
       "      <th>pid</th>\n",
       "      <th>user</th>\n",
       "      <th>date</th>\n",
       "      <th>file</th>\n",
       "    </tr>\n",
       "  </thead>\n",
       "  <tbody>\n",
       "    <tr>\n",
       "      <th>0</th>\n",
       "      <td>11166973</td>\n",
       "      <td>VladimirNik</td>\n",
       "      <td>2013-12-31T23:10:55Z</td>\n",
       "      <td>src/reflect/scala/reflect/api/Printers.scala</td>\n",
       "    </tr>\n",
       "    <tr>\n",
       "      <th>1</th>\n",
       "      <td>11166973</td>\n",
       "      <td>VladimirNik</td>\n",
       "      <td>2013-12-31T23:10:55Z</td>\n",
       "      <td>src/reflect/scala/reflect/internal/Printers.scala</td>\n",
       "    </tr>\n",
       "    <tr>\n",
       "      <th>2</th>\n",
       "      <td>11166973</td>\n",
       "      <td>VladimirNik</td>\n",
       "      <td>2013-12-31T23:10:55Z</td>\n",
       "      <td>test/files/run/reify_ann3.check</td>\n",
       "    </tr>\n",
       "    <tr>\n",
       "      <th>3</th>\n",
       "      <td>11166973</td>\n",
       "      <td>VladimirNik</td>\n",
       "      <td>2013-12-31T23:10:55Z</td>\n",
       "      <td>test/junit/scala/reflect/internal/PrintersTest...</td>\n",
       "    </tr>\n",
       "    <tr>\n",
       "      <th>4</th>\n",
       "      <td>11161892</td>\n",
       "      <td>Ichoran</td>\n",
       "      <td>2013-12-31T16:55:47Z</td>\n",
       "      <td>src/library/scala/collection/mutable/ArrayOps....</td>\n",
       "    </tr>\n",
       "    <tr>\n",
       "      <th>5</th>\n",
       "      <td>11153894</td>\n",
       "      <td>Ichoran</td>\n",
       "      <td>2013-12-31T02:41:13Z</td>\n",
       "      <td>src/library/scala/collection/immutable/Numeric...</td>\n",
       "    </tr>\n",
       "    <tr>\n",
       "      <th>6</th>\n",
       "      <td>11153894</td>\n",
       "      <td>Ichoran</td>\n",
       "      <td>2013-12-31T02:41:13Z</td>\n",
       "      <td>test/junit/scala/collection/NumericRangeTest.s...</td>\n",
       "    </tr>\n",
       "    <tr>\n",
       "      <th>7</th>\n",
       "      <td>11151917</td>\n",
       "      <td>rklaehn</td>\n",
       "      <td>2013-12-30T23:45:47Z</td>\n",
       "      <td>src/library/scala/collection/immutable/HashMap...</td>\n",
       "    </tr>\n",
       "    <tr>\n",
       "      <th>8</th>\n",
       "      <td>11151917</td>\n",
       "      <td>rklaehn</td>\n",
       "      <td>2013-12-30T23:45:47Z</td>\n",
       "      <td>src/library/scala/collection/immutable/HashSet...</td>\n",
       "    </tr>\n",
       "    <tr>\n",
       "      <th>9</th>\n",
       "      <td>11151917</td>\n",
       "      <td>rklaehn</td>\n",
       "      <td>2013-12-30T23:45:47Z</td>\n",
       "      <td>test/files/run/t6196.scala</td>\n",
       "    </tr>\n",
       "    <tr>\n",
       "      <th>10</th>\n",
       "      <td>11151917</td>\n",
       "      <td>rklaehn</td>\n",
       "      <td>2013-12-30T23:45:47Z</td>\n",
       "      <td>test/files/run/t6200.scala</td>\n",
       "    </tr>\n",
       "    <tr>\n",
       "      <th>11</th>\n",
       "      <td>11131244</td>\n",
       "      <td>qerub</td>\n",
       "      <td>2013-12-29T17:21:01Z</td>\n",
       "      <td>src/library/scala/Enumeration.scala</td>\n",
       "    </tr>\n",
       "    <tr>\n",
       "      <th>12</th>\n",
       "      <td>11131244</td>\n",
       "      <td>qerub</td>\n",
       "      <td>2013-12-29T17:21:01Z</td>\n",
       "      <td>src/library/scala/collection/immutable/StringL...</td>\n",
       "    </tr>\n",
       "    <tr>\n",
       "      <th>13</th>\n",
       "      <td>11131244</td>\n",
       "      <td>qerub</td>\n",
       "      <td>2013-12-29T17:21:01Z</td>\n",
       "      <td>src/library/scala/util/matching/Regex.scala</td>\n",
       "    </tr>\n",
       "    <tr>\n",
       "      <th>14</th>\n",
       "      <td>11131244</td>\n",
       "      <td>qerub</td>\n",
       "      <td>2013-12-29T17:21:01Z</td>\n",
       "      <td>src/repl/scala/tools/nsc/interpreter/JavapClas...</td>\n",
       "    </tr>\n",
       "    <tr>\n",
       "      <th>15</th>\n",
       "      <td>11131244</td>\n",
       "      <td>qerub</td>\n",
       "      <td>2013-12-29T17:21:01Z</td>\n",
       "      <td>src/repl/scala/tools/nsc/interpreter/Naming.scala</td>\n",
       "    </tr>\n",
       "    <tr>\n",
       "      <th>16</th>\n",
       "      <td>11130874</td>\n",
       "      <td>Ichoran</td>\n",
       "      <td>2013-12-29T16:03:55Z</td>\n",
       "      <td>src/library/scala/math/BigDecimal.scala</td>\n",
       "    </tr>\n",
       "    <tr>\n",
       "      <th>17</th>\n",
       "      <td>11130874</td>\n",
       "      <td>Ichoran</td>\n",
       "      <td>2013-12-29T16:03:55Z</td>\n",
       "      <td>src/library/scala/math/BigInt.scala</td>\n",
       "    </tr>\n",
       "    <tr>\n",
       "      <th>18</th>\n",
       "      <td>11130874</td>\n",
       "      <td>Ichoran</td>\n",
       "      <td>2013-12-29T16:03:55Z</td>\n",
       "      <td>test/files/jvm/bigints.scala</td>\n",
       "    </tr>\n",
       "    <tr>\n",
       "      <th>19</th>\n",
       "      <td>11130874</td>\n",
       "      <td>Ichoran</td>\n",
       "      <td>2013-12-29T16:03:55Z</td>\n",
       "      <td>test/files/run/bigDecimalTest.check</td>\n",
       "    </tr>\n",
       "  </tbody>\n",
       "</table>\n",
       "</div>"
      ],
      "text/plain": [
       "         pid         user                  date  \\\n",
       "0   11166973  VladimirNik  2013-12-31T23:10:55Z   \n",
       "1   11166973  VladimirNik  2013-12-31T23:10:55Z   \n",
       "2   11166973  VladimirNik  2013-12-31T23:10:55Z   \n",
       "3   11166973  VladimirNik  2013-12-31T23:10:55Z   \n",
       "4   11161892      Ichoran  2013-12-31T16:55:47Z   \n",
       "5   11153894      Ichoran  2013-12-31T02:41:13Z   \n",
       "6   11153894      Ichoran  2013-12-31T02:41:13Z   \n",
       "7   11151917      rklaehn  2013-12-30T23:45:47Z   \n",
       "8   11151917      rklaehn  2013-12-30T23:45:47Z   \n",
       "9   11151917      rklaehn  2013-12-30T23:45:47Z   \n",
       "10  11151917      rklaehn  2013-12-30T23:45:47Z   \n",
       "11  11131244        qerub  2013-12-29T17:21:01Z   \n",
       "12  11131244        qerub  2013-12-29T17:21:01Z   \n",
       "13  11131244        qerub  2013-12-29T17:21:01Z   \n",
       "14  11131244        qerub  2013-12-29T17:21:01Z   \n",
       "15  11131244        qerub  2013-12-29T17:21:01Z   \n",
       "16  11130874      Ichoran  2013-12-29T16:03:55Z   \n",
       "17  11130874      Ichoran  2013-12-29T16:03:55Z   \n",
       "18  11130874      Ichoran  2013-12-29T16:03:55Z   \n",
       "19  11130874      Ichoran  2013-12-29T16:03:55Z   \n",
       "\n",
       "                                                 file  \n",
       "0        src/reflect/scala/reflect/api/Printers.scala  \n",
       "1   src/reflect/scala/reflect/internal/Printers.scala  \n",
       "2                     test/files/run/reify_ann3.check  \n",
       "3   test/junit/scala/reflect/internal/PrintersTest...  \n",
       "4   src/library/scala/collection/mutable/ArrayOps....  \n",
       "5   src/library/scala/collection/immutable/Numeric...  \n",
       "6   test/junit/scala/collection/NumericRangeTest.s...  \n",
       "7   src/library/scala/collection/immutable/HashMap...  \n",
       "8   src/library/scala/collection/immutable/HashSet...  \n",
       "9                          test/files/run/t6196.scala  \n",
       "10                         test/files/run/t6200.scala  \n",
       "11                src/library/scala/Enumeration.scala  \n",
       "12  src/library/scala/collection/immutable/StringL...  \n",
       "13        src/library/scala/util/matching/Regex.scala  \n",
       "14  src/repl/scala/tools/nsc/interpreter/JavapClas...  \n",
       "15  src/repl/scala/tools/nsc/interpreter/Naming.scala  \n",
       "16            src/library/scala/math/BigDecimal.scala  \n",
       "17                src/library/scala/math/BigInt.scala  \n",
       "18                       test/files/jvm/bigints.scala  \n",
       "19                test/files/run/bigDecimalTest.check  "
      ]
     },
     "execution_count": 22,
     "metadata": {},
     "output_type": "execute_result"
    }
   ],
   "source": [
    "data.head(20)"
   ]
  },
  {
   "cell_type": "code",
   "execution_count": 35,
   "id": "b443d924",
   "metadata": {},
   "outputs": [
    {
     "data": {
      "text/plain": [
       "<AxesSubplot:xlabel='month,year'>"
      ]
     },
     "execution_count": 35,
     "metadata": {},
     "output_type": "execute_result"
    },
    {
     "data": {
      "image/png": "[encoded data removed]",
      "text/plain": [
       "<Figure size 864x288 with 1 Axes>"
      ]
     },
     "metadata": {
      "needs_background": "light"
     },
     "output_type": "display_data"
    }
   ],
   "source": [
    "# Required for matplotlib\n",
    "%matplotlib inline\n",
    "\n",
    "data['month'] = pd.DatetimeIndex(data['date']).month\n",
    "data['year'] = pd.DatetimeIndex(data['date']).year\n",
    "\n",
    "# Group by the month and year and count the pull requests\n",
    "counts = data.groupby(['month', 'year']).sum()\n",
    "\n",
    "# Plot the results\n",
    "counts.plot(kind='bar', figsize = (12,4))"
   ]
  },
  {
   "cell_type": "code",
   "execution_count": 36,
   "id": "51f2f6aa",
   "metadata": {},
   "outputs": [
    {
     "data": {
      "text/plain": [
       "array([[<AxesSubplot:title={'center':'pid'}>,\n",
       "        <AxesSubplot:title={'center':'month'}>],\n",
       "       [<AxesSubplot:title={'center':'year'}>, <AxesSubplot:>]],\n",
       "      dtype=object)"
      ]
     },
     "execution_count": 36,
     "metadata": {},
     "output_type": "execute_result"
    },
    {
     "data": {
      "image/png": "[encoded data removed]",
      "text/plain": [
       "<Figure size 432x288 with 4 Axes>"
      ]
     },
     "metadata": {
      "needs_background": "light"
     },
     "output_type": "display_data"
    }
   ],
   "source": [
    "# Required for matplotlib\n",
    "%matplotlib inline\n",
    "\n",
    "# Group by the submitter\n",
    "by_user = data.groupby('user').sum()\n",
    "\n",
    "# Plot the histogram\n",
    "by_user.hist()"
   ]
  },
  {
   "cell_type": "markdown",
   "id": "21ee749f",
   "metadata": {},
   "source": [
    "### What files were changed in the last ten pull requests"
   ]
  },
  {
   "cell_type": "code",
   "execution_count": 51,
   "id": "9750bf6b",
   "metadata": {},
   "outputs": [
    {
     "data": {
      "text/plain": [
       "{'LICENSE',\n",
       " 'doc/LICENSE.md',\n",
       " 'doc/License.rtf',\n",
       " 'project/VersionUtil.scala',\n",
       " 'src/compiler/scala/reflect/reify/phases/Calculate.scala',\n",
       " 'src/compiler/scala/tools/nsc/backend/jvm/BCodeHelpers.scala',\n",
       " 'src/compiler/scala/tools/nsc/backend/jvm/PostProcessor.scala',\n",
       " 'src/compiler/scala/tools/nsc/backend/jvm/analysis/BackendUtils.scala',\n",
       " 'src/compiler/scala/tools/nsc/profile/AsyncHelper.scala',\n",
       " 'src/compiler/scala/tools/nsc/profile/Profiler.scala',\n",
       " 'src/compiler/scala/tools/nsc/symtab/classfile/ClassfileParser.scala',\n",
       " 'src/compiler/scala/tools/nsc/typechecker/Contexts.scala',\n",
       " 'src/library/scala/Predef.scala',\n",
       " 'src/library/scala/concurrent/Lock.scala',\n",
       " 'src/library/scala/util/Properties.scala',\n",
       " 'src/reflect/scala/reflect/internal/pickling/ByteCodecs.scala',\n",
       " 'src/reflect/scala/reflect/internal/tpe/GlbLubs.scala',\n",
       " 'src/scaladoc/scala/tools/nsc/doc/html/page/Entity.scala',\n",
       " 'src/scalap/decoder.properties',\n",
       " 'test/files/neg/leibniz-liskov.check',\n",
       " 'test/files/neg/leibniz-liskov.scala',\n",
       " 'test/files/pos/leibniz-liskov.scala',\n",
       " 'test/files/pos/leibniz_liskov.scala',\n",
       " 'test/files/pos/parallel-classloader.scala',\n",
       " 'test/files/pos/t10568/Converter.java',\n",
       " 'test/files/pos/t10568/Impl.scala',\n",
       " 'test/files/pos/t10686.scala',\n",
       " 'test/files/pos/t5638/Among.java',\n",
       " 'test/files/pos/t5638/Usage.scala',\n",
       " 'test/files/pos/t9291.scala',\n",
       " 'test/files/run/t8348.check',\n",
       " 'test/files/run/t8348/TableColumn.java',\n",
       " 'test/files/run/t8348/TableColumnImpl.java',\n",
       " 'test/files/run/t8348/Test.scala'}"
      ]
     },
     "execution_count": 51,
     "metadata": {},
     "output_type": "execute_result"
    }
   ],
   "source": [
    "# Identify the last 10 pull requests\n",
    "last_10 = pulls.sort_values(by ='date').tail(10)\n",
    "\n",
    "# Join the two data sets\n",
    "joined_pr = pull_files.merge(last_10, on='pid')\n",
    "\n",
    "# Identify the unique files\n",
    "files = set(joined_pr['file'])\n",
    "\n",
    "# Print the results\n",
    "files"
   ]
  },
  {
   "cell_type": "markdown",
   "id": "4789cd74",
   "metadata": {},
   "source": [
    "## Who made the most pull requests to a given file?"
   ]
  },
  {
   "cell_type": "code",
   "execution_count": 73,
   "id": "d1539eda",
   "metadata": {},
   "outputs": [
    {
     "data": {
      "text/html": [
       "<div>\n",
       "<style scoped>\n",
       "    .dataframe tbody tr th:only-of-type {\n",
       "        vertical-align: middle;\n",
       "    }\n",
       "\n",
       "    .dataframe tbody tr th {\n",
       "        vertical-align: top;\n",
       "    }\n",
       "\n",
       "    .dataframe thead th {\n",
       "        text-align: right;\n",
       "    }\n",
       "</style>\n",
       "<table border=\"1\" class=\"dataframe\">\n",
       "  <thead>\n",
       "    <tr style=\"text-align: right;\">\n",
       "      <th></th>\n",
       "      <th>pid</th>\n",
       "      <th>date</th>\n",
       "      <th>file</th>\n",
       "      <th>month</th>\n",
       "      <th>year</th>\n",
       "    </tr>\n",
       "    <tr>\n",
       "      <th>user</th>\n",
       "      <th></th>\n",
       "      <th></th>\n",
       "      <th></th>\n",
       "      <th></th>\n",
       "      <th></th>\n",
       "    </tr>\n",
       "  </thead>\n",
       "  <tbody>\n",
       "    <tr>\n",
       "      <th>xeno-by</th>\n",
       "      <td>11</td>\n",
       "      <td>11</td>\n",
       "      <td>11</td>\n",
       "      <td>11</td>\n",
       "      <td>11</td>\n",
       "    </tr>\n",
       "    <tr>\n",
       "      <th>retronym</th>\n",
       "      <td>5</td>\n",
       "      <td>5</td>\n",
       "      <td>5</td>\n",
       "      <td>5</td>\n",
       "      <td>5</td>\n",
       "    </tr>\n",
       "    <tr>\n",
       "      <th>soc</th>\n",
       "      <td>4</td>\n",
       "      <td>4</td>\n",
       "      <td>4</td>\n",
       "      <td>4</td>\n",
       "      <td>4</td>\n",
       "    </tr>\n",
       "  </tbody>\n",
       "</table>\n",
       "</div>"
      ],
      "text/plain": [
       "          pid  date  file  month  year\n",
       "user                                  \n",
       "xeno-by    11    11    11     11    11\n",
       "retronym    5     5     5      5     5\n",
       "soc         4     4     4      4     4"
      ]
     },
     "execution_count": 73,
     "metadata": {},
     "output_type": "execute_result"
    }
   ],
   "source": [
    "# This is the file we are interested in:\n",
    "file = 'src/compiler/scala/reflect/reify/phases/Calculate.scala'\n",
    "\n",
    "# Identify the commits that changed the file\n",
    "file_pr = data[data['file'] == file]\n",
    "\n",
    "# Count the number of changes made by each developer\n",
    "author_counts = file_pr.groupby('user').count()\n",
    "\n",
    "# Print the top 3 developers\n",
    "author_counts.nlargest(3, 'file')"
   ]
  },
  {
   "cell_type": "markdown",
   "id": "91529c0c",
   "metadata": {},
   "source": [
    "### Who made the last ten pull requests on a given file ?"
   ]
  },
  {
   "cell_type": "code",
   "execution_count": 86,
   "id": "8e27162f",
   "metadata": {},
   "outputs": [
    {
     "data": {
      "text/html": [
       "<div>\n",
       "<style scoped>\n",
       "    .dataframe tbody tr th:only-of-type {\n",
       "        vertical-align: middle;\n",
       "    }\n",
       "\n",
       "    .dataframe tbody tr th {\n",
       "        vertical-align: top;\n",
       "    }\n",
       "\n",
       "    .dataframe thead th {\n",
       "        text-align: right;\n",
       "    }\n",
       "</style>\n",
       "<table border=\"1\" class=\"dataframe\">\n",
       "  <thead>\n",
       "    <tr style=\"text-align: right;\">\n",
       "      <th></th>\n",
       "      <th>pid</th>\n",
       "      <th>user</th>\n",
       "      <th>date</th>\n",
       "      <th>file</th>\n",
       "    </tr>\n",
       "  </thead>\n",
       "  <tbody>\n",
       "    <tr>\n",
       "      <th>6</th>\n",
       "      <td>4295399</td>\n",
       "      <td>retronym</td>\n",
       "      <td>2013-02-24T21:43:43Z</td>\n",
       "      <td>src/compiler/scala/reflect/reify/phases/Calcul...</td>\n",
       "    </tr>\n",
       "    <tr>\n",
       "      <th>5</th>\n",
       "      <td>4786005</td>\n",
       "      <td>starblood</td>\n",
       "      <td>2013-03-25T02:48:48Z</td>\n",
       "      <td>src/compiler/scala/reflect/reify/phases/Calcul...</td>\n",
       "    </tr>\n",
       "    <tr>\n",
       "      <th>4</th>\n",
       "      <td>5026775</td>\n",
       "      <td>retronym</td>\n",
       "      <td>2013-04-08T07:07:45Z</td>\n",
       "      <td>src/compiler/scala/reflect/reify/phases/Calcul...</td>\n",
       "    </tr>\n",
       "    <tr>\n",
       "      <th>3</th>\n",
       "      <td>5050360</td>\n",
       "      <td>retronym</td>\n",
       "      <td>2013-04-09T06:13:57Z</td>\n",
       "      <td>src/compiler/scala/reflect/reify/phases/Calcul...</td>\n",
       "    </tr>\n",
       "    <tr>\n",
       "      <th>2</th>\n",
       "      <td>5291974</td>\n",
       "      <td>bjornregnell</td>\n",
       "      <td>2013-04-22T13:56:06Z</td>\n",
       "      <td>src/compiler/scala/reflect/reify/phases/Calcul...</td>\n",
       "    </tr>\n",
       "    <tr>\n",
       "      <th>1</th>\n",
       "      <td>5320191</td>\n",
       "      <td>soc</td>\n",
       "      <td>2013-04-23T15:47:45Z</td>\n",
       "      <td>src/compiler/scala/reflect/reify/phases/Calcul...</td>\n",
       "    </tr>\n",
       "    <tr>\n",
       "      <th>0</th>\n",
       "      <td>10587633</td>\n",
       "      <td>retronym</td>\n",
       "      <td>2013-12-06T10:04:43Z</td>\n",
       "      <td>src/compiler/scala/reflect/reify/phases/Calcul...</td>\n",
       "    </tr>\n",
       "    <tr>\n",
       "      <th>29</th>\n",
       "      <td>12102550</td>\n",
       "      <td>xeno-by</td>\n",
       "      <td>2014-02-01T01:19:58Z</td>\n",
       "      <td>src/compiler/scala/reflect/reify/phases/Calcul...</td>\n",
       "    </tr>\n",
       "    <tr>\n",
       "      <th>28</th>\n",
       "      <td>22845163</td>\n",
       "      <td>retronym</td>\n",
       "      <td>2014-10-16T10:23:42Z</td>\n",
       "      <td>src/compiler/scala/reflect/reify/phases/Calcul...</td>\n",
       "    </tr>\n",
       "    <tr>\n",
       "      <th>27</th>\n",
       "      <td>162838837</td>\n",
       "      <td>zuvizudar</td>\n",
       "      <td>2018-01-14T19:16:16Z</td>\n",
       "      <td>src/compiler/scala/reflect/reify/phases/Calcul...</td>\n",
       "    </tr>\n",
       "  </tbody>\n",
       "</table>\n",
       "</div>"
      ],
      "text/plain": [
       "          pid          user                  date  \\\n",
       "6     4295399      retronym  2013-02-24T21:43:43Z   \n",
       "5     4786005     starblood  2013-03-25T02:48:48Z   \n",
       "4     5026775      retronym  2013-04-08T07:07:45Z   \n",
       "3     5050360      retronym  2013-04-09T06:13:57Z   \n",
       "2     5291974  bjornregnell  2013-04-22T13:56:06Z   \n",
       "1     5320191           soc  2013-04-23T15:47:45Z   \n",
       "0    10587633      retronym  2013-12-06T10:04:43Z   \n",
       "29   12102550       xeno-by  2014-02-01T01:19:58Z   \n",
       "28   22845163      retronym  2014-10-16T10:23:42Z   \n",
       "27  162838837     zuvizudar  2018-01-14T19:16:16Z   \n",
       "\n",
       "                                                 file  \n",
       "6   src/compiler/scala/reflect/reify/phases/Calcul...  \n",
       "5   src/compiler/scala/reflect/reify/phases/Calcul...  \n",
       "4   src/compiler/scala/reflect/reify/phases/Calcul...  \n",
       "3   src/compiler/scala/reflect/reify/phases/Calcul...  \n",
       "2   src/compiler/scala/reflect/reify/phases/Calcul...  \n",
       "1   src/compiler/scala/reflect/reify/phases/Calcul...  \n",
       "0   src/compiler/scala/reflect/reify/phases/Calcul...  \n",
       "29  src/compiler/scala/reflect/reify/phases/Calcul...  \n",
       "28  src/compiler/scala/reflect/reify/phases/Calcul...  \n",
       "27  src/compiler/scala/reflect/reify/phases/Calcul...  "
      ]
     },
     "execution_count": 86,
     "metadata": {},
     "output_type": "execute_result"
    }
   ],
   "source": [
    "file = 'src/compiler/scala/reflect/reify/phases/Calculate.scala'\n",
    "\n",
    "# Select the pull requests that changed the target file\n",
    "file_pr = pull_files[pull_files['file'] == file]\n",
    "\n",
    "# Merge the obtained results with the pulls DataFrame\n",
    "joined_pr = pulls.merge(file_pr, on='pid')\n",
    "\n",
    "# Find the users of the last 10 most recent pull requests\n",
    "set(joined_pr.sort_values(by='date')['user']).tail(10)"
   ]
  },
  {
   "cell_type": "code",
   "execution_count": null,
   "id": "5ea6f54a",
   "metadata": {},
   "outputs": [],
   "source": []
  }
 ],
 "metadata": {
  "kernelspec": {
   "display_name": "Python 3 (ipykernel)",
   "language": "python",
   "name": "python3"
  },
  "language_info": {
   "codemirror_mode": {
    "name": "ipython",
    "version": 3
   },
   "file_extension": ".py",
   "mimetype": "text/x-python",
   "name": "python",
   "nbconvert_exporter": "python",
   "pygments_lexer": "ipython3",
   "version": "3.9.12"
  }
 },
 "nbformat": 4,
 "nbformat_minor": 5
}
